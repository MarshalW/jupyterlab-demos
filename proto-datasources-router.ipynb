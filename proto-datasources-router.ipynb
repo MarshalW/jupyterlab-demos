{
 "cells": [
  {
   "cell_type": "markdown",
   "id": "7f30fad8-7109-4811-80ce-dd661f87fc9f",
   "metadata": {},
   "source": [
    "# 多数据源查询的自动路由切换"
   ]
  },
  {
   "cell_type": "markdown",
   "id": "19830746-a14a-4e78-85e0-52cd19a36089",
   "metadata": {},
   "source": [
    "比如有2个知识库，`旅游景点知识库` 和 `动物知识库`，希望通过用户提示词，自动切换到相关知识库回答问题。"
   ]
  },
  {
   "cell_type": "markdown",
   "id": "e3b537c9-8298-467b-a001-36e8e0d2eae9",
   "metadata": {},
   "source": [
    "## 全局设置"
   ]
  },
  {
   "cell_type": "code",
   "execution_count": 1,
   "id": "00b0edca-7b9a-4ab6-a47a-f4610cbb2951",
   "metadata": {},
   "outputs": [
    {
     "name": "stdout",
     "output_type": "stream",
     "text": [
      "CPU times: user 4.71 s, sys: 766 ms, total: 5.48 s\n",
      "Wall time: 5.36 s\n"
     ]
    }
   ],
   "source": [
    "%%time\n",
    "\n",
    "from llama_index.core import Settings\n",
    "from llama_index.llms.openai_like import OpenAILike\n",
    "from llama_index.embeddings.ollama import OllamaEmbedding\n",
    "\n",
    "Settings.llm=OpenAILike(\n",
    "    # model=\"qwen2\", \n",
    "    model=\"glm4\", \n",
    "    api_base=\"http://ape:3000/v1\", \n",
    "    api_key=\"sk-bJP6QSnUfjAYeYeE505d3eBf63A643BeB0B8E350Df9b7750\",\n",
    "    is_chat_model=True,\n",
    "    temperature=0.1,\n",
    "    request_timeout=60.0\n",
    ")\n",
    "\n",
    "Settings.embed_model = OllamaEmbedding(\n",
    "    model_name=\"quentinz/bge-large-zh-v1.5\",\n",
    "    base_url=\"http://ape:11434\",\n",
    "    ollama_additional_kwargs={\"mirostat\": 0}, # -mirostat N 使用 Mirostat 采样。\n",
    ")\n",
    "\n",
    "Settings.chunk_size = 128\n",
    "Settings.chunk_overlap = 10"
   ]
  },
  {
   "cell_type": "markdown",
   "id": "c834cf41-da8e-498c-9c7c-ae8af8512178",
   "metadata": {},
   "source": [
    "## 加载数据"
   ]
  },
  {
   "cell_type": "markdown",
   "id": "ac33eb5d-e9fa-4229-87bc-70a483b4db3e",
   "metadata": {},
   "source": [
    "### 景点数据"
   ]
  },
  {
   "cell_type": "code",
   "execution_count": 2,
   "id": "3b35b838-15c7-46c3-bf34-5a8ebd446d9e",
   "metadata": {},
   "outputs": [
    {
     "name": "stdout",
     "output_type": "stream",
     "text": [
      "CPU times: user 1.25 s, sys: 59.2 ms, total: 1.31 s\n",
      "Wall time: 1.6 s\n"
     ]
    },
    {
     "data": {
      "text/plain": [
       "3"
      ]
     },
     "execution_count": 2,
     "metadata": {},
     "output_type": "execute_result"
    }
   ],
   "source": [
    "%%time\n",
    "\n",
    "from llama_index.readers.web import TrafilaturaWebReader\n",
    "\n",
    "items=[\n",
    "    \"颐和园\",\n",
    "    \"北海公园\",\n",
    "    \"故宫\",\n",
    "    # \"八达岭长城\",\n",
    "    # \"天坛公园\",\n",
    "    # \"恭王府\",\n",
    "    # \"圆明园\",\n",
    "    # \"景山公园\",\n",
    "    # \"中山公园\",\n",
    "    # \"陶然亭公园\",\n",
    "]\n",
    "\n",
    "documents_attractions = TrafilaturaWebReader().load_data(\n",
    "    [ f\"https://baike.baidu.com/item/{item}\" for item in items]\n",
    ")\n",
    "\n",
    "len(documents_attractions)"
   ]
  },
  {
   "cell_type": "markdown",
   "id": "f7b95866-08ed-4532-91ee-13a12b0f379a",
   "metadata": {},
   "source": [
    "### 动物数据"
   ]
  },
  {
   "cell_type": "code",
   "execution_count": 3,
   "id": "c0c90693-059b-4b47-86cb-bceb5354775e",
   "metadata": {},
   "outputs": [
    {
     "name": "stdout",
     "output_type": "stream",
     "text": [
      "CPU times: user 380 ms, sys: 6.25 ms, total: 386 ms\n",
      "Wall time: 587 ms\n"
     ]
    },
    {
     "data": {
      "text/plain": [
       "3"
      ]
     },
     "execution_count": 3,
     "metadata": {},
     "output_type": "execute_result"
    }
   ],
   "source": [
    "%%time\n",
    "\n",
    "items=[\n",
    "    \"东北虎\",\n",
    "    \"金丝猴\",\n",
    "    \"大熊猫\",\n",
    "    # \"扬子鳄\",\n",
    "    # \"娃娃鱼\",\n",
    "    # \"小熊猫\",\n",
    "]\n",
    "\n",
    "documents_animals = TrafilaturaWebReader().load_data(\n",
    "    [ f\"https://baike.baidu.com/item/{item}\" for item in items]\n",
    ")\n",
    "\n",
    "len(documents_animals)"
   ]
  },
  {
   "cell_type": "markdown",
   "id": "f2d2c7a3-a6ab-4c98-be59-48f8bd4b34bf",
   "metadata": {},
   "source": [
    "## 建立向量索引和查询引擎"
   ]
  },
  {
   "cell_type": "markdown",
   "id": "7bf34714-1d4a-4928-8458-cc246c317a24",
   "metadata": {},
   "source": [
    "### 景点"
   ]
  },
  {
   "cell_type": "code",
   "execution_count": 4,
   "id": "53f885f3-9b8a-40bf-a4ae-64a14c32992e",
   "metadata": {},
   "outputs": [
    {
     "name": "stdout",
     "output_type": "stream",
     "text": [
      "CPU times: user 3.27 s, sys: 473 ms, total: 3.75 s\n",
      "Wall time: 54.9 s\n"
     ]
    },
    {
     "data": {
      "text/plain": [
       "545"
      ]
     },
     "execution_count": 4,
     "metadata": {},
     "output_type": "execute_result"
    }
   ],
   "source": [
    "%%time\n",
    "\n",
    "from llama_index.core import VectorStoreIndex\n",
    "from llama_index.core.node_parser import SentenceSplitter\n",
    "\n",
    "# 创建索引\n",
    "\n",
    "parser = SentenceSplitter(chunk_size=128,chunk_overlap=10)\n",
    "nodes = parser.get_nodes_from_documents(documents_attractions)\n",
    "vector_index_attractions = VectorStoreIndex(nodes)\n",
    "\n",
    "len(nodes)"
   ]
  },
  {
   "cell_type": "code",
   "execution_count": 5,
   "id": "aadf6d1f-b88c-42ab-a6cb-4907c25c50b7",
   "metadata": {},
   "outputs": [
    {
     "name": "stdout",
     "output_type": "stream",
     "text": [
      "CPU times: user 34 μs, sys: 5 μs, total: 39 μs\n",
      "Wall time: 41.2 μs\n"
     ]
    }
   ],
   "source": [
    "%%time\n",
    "\n",
    "# 创建检索器\n",
    "\n",
    "vector_retriever_attractions = vector_index_attractions.as_retriever()"
   ]
  },
  {
   "cell_type": "code",
   "execution_count": 6,
   "id": "06e3b60a-23c4-4b7b-b87d-95f8a2957d60",
   "metadata": {},
   "outputs": [
    {
     "name": "stdout",
     "output_type": "stream",
     "text": [
      "CPU times: user 16 μs, sys: 2 μs, total: 18 μs\n",
      "Wall time: 21 μs\n"
     ]
    }
   ],
   "source": [
    "%%time\n",
    "\n",
    "from llama_index.core.tools import RetrieverTool\n",
    "\n",
    "vector_tool_attractions = RetrieverTool.from_defaults(\n",
    "    retriever=vector_retriever_attractions,\n",
    "    description=(\n",
    "        \"旅游景点相关问题，可以从这里检索具体信息\"\n",
    "    ),\n",
    ")"
   ]
  },
  {
   "cell_type": "markdown",
   "id": "7a56887b-6af3-4102-97a0-0055c1fe58c8",
   "metadata": {},
   "source": [
    "### 动物"
   ]
  },
  {
   "cell_type": "code",
   "execution_count": 7,
   "id": "bb744267-8adb-43eb-a0d2-ba79329afb08",
   "metadata": {},
   "outputs": [
    {
     "name": "stdout",
     "output_type": "stream",
     "text": [
      "CPU times: user 2.64 s, sys: 352 ms, total: 2.99 s\n",
      "Wall time: 42.7 s\n"
     ]
    },
    {
     "data": {
      "text/plain": [
       "435"
      ]
     },
     "execution_count": 7,
     "metadata": {},
     "output_type": "execute_result"
    }
   ],
   "source": [
    "%%time\n",
    "\n",
    "# 创建索引\n",
    "\n",
    "parser = SentenceSplitter(chunk_size=128,chunk_overlap=10)\n",
    "nodes = parser.get_nodes_from_documents(documents_animals)\n",
    "vector_index_animails = VectorStoreIndex(nodes)\n",
    "\n",
    "len(nodes)"
   ]
  },
  {
   "cell_type": "code",
   "execution_count": 8,
   "id": "2e90bd3b-43b2-451b-b4ec-362f5de6c57d",
   "metadata": {},
   "outputs": [
    {
     "name": "stdout",
     "output_type": "stream",
     "text": [
      "CPU times: user 34 μs, sys: 4 μs, total: 38 μs\n",
      "Wall time: 41.5 μs\n"
     ]
    }
   ],
   "source": [
    "%%time\n",
    "\n",
    "# 创建检索器\n",
    "\n",
    "vector_retriever_animals = vector_index_animails.as_retriever()"
   ]
  },
  {
   "cell_type": "code",
   "execution_count": 9,
   "id": "108a3485-ee73-4114-95c5-70d91fafef9d",
   "metadata": {},
   "outputs": [
    {
     "name": "stdout",
     "output_type": "stream",
     "text": [
      "CPU times: user 17 μs, sys: 2 μs, total: 19 μs\n",
      "Wall time: 22.6 μs\n"
     ]
    }
   ],
   "source": [
    "%%time\n",
    "\n",
    "from llama_index.core.tools import RetrieverTool\n",
    "\n",
    "vector_tool_animals = RetrieverTool.from_defaults(\n",
    "    retriever=vector_retriever_animals,\n",
    "    description=(\n",
    "        \"动物相关问题，可以从这里检索具体信息\"\n",
    "    ),\n",
    ")"
   ]
  },
  {
   "cell_type": "markdown",
   "id": "34af7b08-536a-40b5-b108-ed1a2c5bd29f",
   "metadata": {},
   "source": [
    "### 路由检索器"
   ]
  },
  {
   "cell_type": "code",
   "execution_count": 10,
   "id": "636a7cd9-075a-4cc0-88c8-274408635640",
   "metadata": {},
   "outputs": [
    {
     "name": "stdout",
     "output_type": "stream",
     "text": [
      "CPU times: user 394 μs, sys: 3.79 ms, total: 4.18 ms\n",
      "Wall time: 3.85 ms\n"
     ]
    }
   ],
   "source": [
    "%%time\n",
    "\n",
    "from llama_index.core.retrievers import RouterRetriever\n",
    "\n",
    "from llama_index.core.selectors import LLMSingleSelector\n",
    "\n",
    "retriever = RouterRetriever(\n",
    "    selector=LLMSingleSelector.from_defaults(),\n",
    "    retriever_tools=[\n",
    "        vector_tool_attractions,\n",
    "        vector_tool_animals,\n",
    "    ],\n",
    ")"
   ]
  },
  {
   "cell_type": "code",
   "execution_count": 11,
   "id": "08b31b34-7d37-421e-8bb3-49f5240ec2b3",
   "metadata": {},
   "outputs": [
    {
     "name": "stdout",
     "output_type": "stream",
     "text": [
      "CPU times: user 99.8 ms, sys: 12.1 ms, total: 112 ms\n",
      "Wall time: 3.34 s\n"
     ]
    },
    {
     "data": {
      "text/plain": [
       "[NodeWithScore(node=TextNode(id_='561000ff-4f6d-4432-8d39-d6c110654dcc', embedding=None, metadata={}, excluded_embed_metadata_keys=[], excluded_llm_metadata_keys=[], relationships={<NodeRelationship.SOURCE: '1'>: RelatedNodeInfo(node_id='https://baike.baidu.com/item/颐和园', node_type=<ObjectType.DOCUMENT: '4'>, metadata={}, hash='f6e5546f58c9fc5d1ad40561ca6c2b05d6d1257e6f030c1a8bab75777e9c0390'), <NodeRelationship.NEXT: '3'>: RelatedNodeInfo(node_id='3c983a0b-d386-4e2f-a905-8f8f6e424584', node_type=<ObjectType.TEXT: '1'>, metadata={}, hash='994ac7a04fdf52b0204cfb450624d5a98ee22b5b768555df61ddc271374c32c7')}, text='颐和园，中国清朝时期皇家园林，前身为清漪园，位于北京市西郊海淀区新建宫门路19号。 [52] [72]其始建于清乾隆十五年（1750年），咸丰十年（1860年）被英法联军烧毁。', mimetype='text/plain', start_char_idx=0, end_char_idx=88, text_template='{metadata_str}\\n\\n{content}', metadata_template='{key}: {value}', metadata_seperator='\\n'), score=0.7068467872800152),\n",
       " NodeWithScore(node=TextNode(id_='fb741001-09d1-4307-8280-78458c401400', embedding=None, metadata={}, excluded_embed_metadata_keys=[], excluded_llm_metadata_keys=[], relationships={<NodeRelationship.SOURCE: '1'>: RelatedNodeInfo(node_id='https://baike.baidu.com/item/颐和园', node_type=<ObjectType.DOCUMENT: '4'>, metadata={}, hash='f6e5546f58c9fc5d1ad40561ca6c2b05d6d1257e6f030c1a8bab75777e9c0390'), <NodeRelationship.PREVIOUS: '2'>: RelatedNodeInfo(node_id='255b4d0b-a272-49d0-aa71-b7c12ecca128', node_type=<ObjectType.TEXT: '1'>, metadata={}, hash='092c484d5ea0521bf378706b50dda8cca6068b841026b9d12a2cb41bdee2e265'), <NodeRelationship.NEXT: '3'>: RelatedNodeInfo(node_id='0d1fbb57-335d-4eef-96aa-c038e37f9da9', node_type=<ObjectType.TEXT: '1'>, metadata={}, hash='80b47de448ae429766232df02fbdfeb01171766141248ea8892ff9625936eaaa')}, text='颐和园的前身为万寿山清漪园，是清代分布在北京西北郊皇家园林区“三山五园”中最后兴建的一座。', mimetype='text/plain', start_char_idx=18293, end_char_idx=18338, text_template='{metadata_str}\\n\\n{content}', metadata_template='{key}: {value}', metadata_seperator='\\n'), score=0.6980161481470106)]"
      ]
     },
     "execution_count": 11,
     "metadata": {},
     "output_type": "execute_result"
    }
   ],
   "source": [
    "%%time\n",
    "\n",
    "retriever.retrieve(\n",
    "    \"颐和园在哪里\"\n",
    ")"
   ]
  },
  {
   "cell_type": "markdown",
   "id": "48aa430f-27c9-4683-a128-f3a1ab0f10fa",
   "metadata": {},
   "source": [
    "### 查询引擎"
   ]
  },
  {
   "cell_type": "code",
   "execution_count": 12,
   "id": "5a260aef-0480-4209-b97d-7d0be5d7e2a2",
   "metadata": {},
   "outputs": [
    {
     "name": "stdout",
     "output_type": "stream",
     "text": [
      "CPU times: user 134 μs, sys: 19 μs, total: 153 μs\n",
      "Wall time: 156 μs\n"
     ]
    }
   ],
   "source": [
    "%%time\n",
    "\n",
    "from llama_index.core import get_response_synthesizer\n",
    "from llama_index.core.query_engine import RetrieverQueryEngine\n",
    "\n",
    "response_synthesizer = get_response_synthesizer(\n",
    "    response_mode=\"tree_summarize\",\n",
    "    streaming=True,\n",
    ")\n",
    "\n",
    "query_engine = RetrieverQueryEngine(\n",
    "    retriever=retriever,\n",
    "    response_synthesizer=response_synthesizer,\n",
    ")"
   ]
  },
  {
   "cell_type": "code",
   "execution_count": 13,
   "id": "f357f17c-b94c-4cfb-9466-a01fe715cac8",
   "metadata": {},
   "outputs": [
    {
     "name": "stdout",
     "output_type": "stream",
     "text": [
      "位于北京市西郊海淀区新建宫门路19号。CPU times: user 64.9 ms, sys: 7.67 ms, total: 72.6 ms\n",
      "Wall time: 2.19 s\n"
     ]
    }
   ],
   "source": [
    "%%time\n",
    "\n",
    "response = query_engine.query(\"颐和园在哪里\")\n",
    "response.print_response_stream()"
   ]
  },
  {
   "cell_type": "code",
   "execution_count": 14,
   "id": "ee867153-fd64-4be1-8adf-c5daefa11083",
   "metadata": {},
   "outputs": [
    {
     "name": "stdout",
     "output_type": "stream",
     "text": [
      "成年东北虎雄性体重平均为250千克。CPU times: user 57.5 ms, sys: 8.71 ms, total: 66.2 ms\n",
      "Wall time: 1.67 s\n"
     ]
    }
   ],
   "source": [
    "%%time\n",
    "\n",
    "response = query_engine.query(\"东北虎的体重是多少\")\n",
    "response.print_response_stream()"
   ]
  },
  {
   "cell_type": "markdown",
   "id": "61aedb68-d889-4ed4-ba66-073c02e648be",
   "metadata": {},
   "source": [
    "### 局限性"
   ]
  },
  {
   "cell_type": "code",
   "execution_count": 15,
   "id": "63680f11-7d6b-45d0-ad74-3cb02b63f5ec",
   "metadata": {},
   "outputs": [
    {
     "name": "stdout",
     "output_type": "stream",
     "text": [
      "颐和园，原名万寿山清漪园，位于北京西北郊的皇家园林区“三山五园”中。它是清代最后兴建的一座园林，具有悠久的历史背景。根据现存清代档案，我们可以了解到颐和园的建设工程从光绪十六年（1890年）底开始，至光绪二十年（1894年）结束。在这段时间内，工程的进度每5天就会上报一次，详细记录了从旧历初一至初五、初六至初十等不同时间段的进展情况。这些档案为我们提供了颐和园建设过程中的宝贵信息。CPU times: user 244 ms, sys: 57.1 ms, total: 301 ms\n",
      "Wall time: 4.12 s\n"
     ]
    }
   ],
   "source": [
    "%%time\n",
    "\n",
    "response = query_engine.query(\"介绍下颐和园的历史\")\n",
    "response.print_response_stream()"
   ]
  },
  {
   "cell_type": "code",
   "execution_count": 16,
   "id": "0284ace8-2f06-4a6f-b229-e7d234938e52",
   "metadata": {},
   "outputs": [
    {
     "name": "stdout",
     "output_type": "stream",
     "text": [
      "东北虎是一种体型庞大、头大而圆的猫科动物。其前额上有数条黑色横纹，中间常被串通，形似“王”字，因此被誉为“丛林之王”。这种老虎的牙齿非常强大，通常有30颗。它们的四个虎爪非常锐利，使用时可以伸出，不用时则缩回爪鞘以避免行走时摩擦地面。\n",
      "\n",
      "在朝鲜北部的山区，可能存在少量东北虎个体，但由于缺乏野外调查资料，具体情况尚不明确。东北虎的繁殖季节主要在冬季，发情交配期一般在11月至翌年2月份。在此期间，它们的叫声特别响亮，可以传播至2千米之外。CPU times: user 266 ms, sys: 69.7 ms, total: 335 ms\n",
      "Wall time: 4.92 s\n"
     ]
    }
   ],
   "source": [
    "%%time\n",
    "\n",
    "response = query_engine.query(\"介绍下东北虎\")\n",
    "response.print_response_stream()"
   ]
  },
  {
   "cell_type": "markdown",
   "id": "7467d050-61d1-4a11-8cd8-bb29a8528cf8",
   "metadata": {},
   "source": [
    "## 增加摘要索引的查询引擎"
   ]
  },
  {
   "cell_type": "markdown",
   "id": "81ac10e4-4fa1-4c90-873a-4d89a23d013b",
   "metadata": {},
   "source": [
    "### 景点摘要"
   ]
  },
  {
   "cell_type": "code",
   "execution_count": 17,
   "id": "79ddb97d-c927-457a-aab7-e44f90d8b292",
   "metadata": {},
   "outputs": [
    {
     "name": "stdout",
     "output_type": "stream",
     "text": [
      "CPU times: user 56.1 ms, sys: 3.7 ms, total: 59.8 ms\n",
      "Wall time: 57.6 ms\n"
     ]
    },
    {
     "data": {
      "text/plain": [
       "57"
      ]
     },
     "execution_count": 17,
     "metadata": {},
     "output_type": "execute_result"
    }
   ],
   "source": [
    "%%time\n",
    "\n",
    "from llama_index.core import SummaryIndex\n",
    "\n",
    "# 创建摘要索引\n",
    "\n",
    "parser = SentenceSplitter(chunk_size=1024,chunk_overlap=20)\n",
    "nodes = parser.get_nodes_from_documents(documents_attractions)\n",
    "summary_index_attractions = SummaryIndex(nodes)\n",
    "\n",
    "len(nodes)"
   ]
  },
  {
   "cell_type": "code",
   "execution_count": 18,
   "id": "180d262e-64ce-4ad3-b305-e4740b6ef80f",
   "metadata": {},
   "outputs": [
    {
     "name": "stdout",
     "output_type": "stream",
     "text": [
      "CPU times: user 97 μs, sys: 0 ns, total: 97 μs\n",
      "Wall time: 101 μs\n"
     ]
    }
   ],
   "source": [
    "%%time\n",
    "\n",
    "# 创建索引器\n",
    "\n",
    "summary_retriever_attractions = summary_index_attractions.as_retriever()"
   ]
  },
  {
   "cell_type": "code",
   "execution_count": 19,
   "id": "c4dae3ce-ea16-4b38-9dbe-504af8b54573",
   "metadata": {},
   "outputs": [
    {
     "name": "stdout",
     "output_type": "stream",
     "text": [
      "CPU times: user 14 μs, sys: 0 ns, total: 14 μs\n",
      "Wall time: 16.2 μs\n"
     ]
    }
   ],
   "source": [
    "%%time\n",
    "\n",
    "summary_tool_attractions = RetrieverTool.from_defaults(\n",
    "    retriever=summary_retriever_attractions,\n",
    "    description=(\n",
    "        \"旅游景点相关问题，回答概要和总体方面的问题。\"\n",
    "        \"如果问题只需要更具体的上下文，请不要使用。\"\n",
    "    ),\n",
    ")"
   ]
  },
  {
   "cell_type": "markdown",
   "id": "9fff2bc4-d31b-43da-a2b8-a36e53e827ac",
   "metadata": {},
   "source": [
    "### 动物摘要"
   ]
  },
  {
   "cell_type": "code",
   "execution_count": 20,
   "id": "ec0397ea-d2b3-4652-b5a0-341e0802fe91",
   "metadata": {},
   "outputs": [
    {
     "name": "stdout",
     "output_type": "stream",
     "text": [
      "CPU times: user 51.9 ms, sys: 0 ns, total: 51.9 ms\n",
      "Wall time: 50.8 ms\n"
     ]
    },
    {
     "data": {
      "text/plain": [
       "44"
      ]
     },
     "execution_count": 20,
     "metadata": {},
     "output_type": "execute_result"
    }
   ],
   "source": [
    "%%time\n",
    "\n",
    "# 创建摘要索引\n",
    "\n",
    "parser = SentenceSplitter(chunk_size=1024,chunk_overlap=20)\n",
    "nodes = parser.get_nodes_from_documents(documents_animals)\n",
    "summary_index_animals = SummaryIndex(nodes)\n",
    "\n",
    "len(nodes)"
   ]
  },
  {
   "cell_type": "code",
   "execution_count": 21,
   "id": "c3c885dc-e1b3-4f87-8d4a-291e2edb7af7",
   "metadata": {},
   "outputs": [
    {
     "name": "stdout",
     "output_type": "stream",
     "text": [
      "CPU times: user 25 μs, sys: 3 μs, total: 28 μs\n",
      "Wall time: 30.8 μs\n"
     ]
    }
   ],
   "source": [
    "%%time\n",
    "\n",
    "# 创建索引器\n",
    "\n",
    "summary_retriever_animals = summary_index_animals.as_retriever()"
   ]
  },
  {
   "cell_type": "code",
   "execution_count": 22,
   "id": "115126b9-e5e5-417a-9915-5c812d08579d",
   "metadata": {},
   "outputs": [
    {
     "name": "stdout",
     "output_type": "stream",
     "text": [
      "CPU times: user 12 μs, sys: 1 μs, total: 13 μs\n",
      "Wall time: 16.5 μs\n"
     ]
    }
   ],
   "source": [
    "%%time\n",
    "\n",
    "summary_tool_animals = RetrieverTool.from_defaults(\n",
    "    retriever=summary_retriever_animals,\n",
    "    description=(\n",
    "        \"动物相关问题，回答概要和总体方面的问题。\"\n",
    "        \"如果问题只需要更具体的上下文，请不要使用。\"\n",
    "    ),\n",
    ")"
   ]
  },
  {
   "cell_type": "markdown",
   "id": "4a8f8d89-50a1-4976-ad78-e821c9a111fd",
   "metadata": {},
   "source": [
    "### 路由检索器"
   ]
  },
  {
   "cell_type": "code",
   "execution_count": 23,
   "id": "e2635df0-b6bb-4279-815e-a2b713edb341",
   "metadata": {},
   "outputs": [
    {
     "name": "stdout",
     "output_type": "stream",
     "text": [
      "CPU times: user 176 μs, sys: 25 μs, total: 201 μs\n",
      "Wall time: 206 μs\n"
     ]
    }
   ],
   "source": [
    "%%time\n",
    "\n",
    "retriever = RouterRetriever(\n",
    "    selector=LLMSingleSelector.from_defaults(),\n",
    "    retriever_tools=[\n",
    "        vector_tool_attractions,\n",
    "        vector_tool_animals,\n",
    "        summary_tool_attractions,\n",
    "        summary_tool_animals,\n",
    "    ],\n",
    ")"
   ]
  },
  {
   "cell_type": "code",
   "execution_count": 24,
   "id": "d62f7635-1848-444b-8670-25bfe09d520c",
   "metadata": {},
   "outputs": [
    {
     "name": "stdout",
     "output_type": "stream",
     "text": [
      "CPU times: user 38.9 ms, sys: 160 μs, total: 39.1 ms\n",
      "Wall time: 1.15 s\n"
     ]
    },
    {
     "data": {
      "text/plain": [
       "[NodeWithScore(node=TextNode(id_='561000ff-4f6d-4432-8d39-d6c110654dcc', embedding=None, metadata={}, excluded_embed_metadata_keys=[], excluded_llm_metadata_keys=[], relationships={<NodeRelationship.SOURCE: '1'>: RelatedNodeInfo(node_id='https://baike.baidu.com/item/颐和园', node_type=<ObjectType.DOCUMENT: '4'>, metadata={}, hash='f6e5546f58c9fc5d1ad40561ca6c2b05d6d1257e6f030c1a8bab75777e9c0390'), <NodeRelationship.NEXT: '3'>: RelatedNodeInfo(node_id='3c983a0b-d386-4e2f-a905-8f8f6e424584', node_type=<ObjectType.TEXT: '1'>, metadata={}, hash='994ac7a04fdf52b0204cfb450624d5a98ee22b5b768555df61ddc271374c32c7')}, text='颐和园，中国清朝时期皇家园林，前身为清漪园，位于北京市西郊海淀区新建宫门路19号。 [52] [72]其始建于清乾隆十五年（1750年），咸丰十年（1860年）被英法联军烧毁。', mimetype='text/plain', start_char_idx=0, end_char_idx=88, text_template='{metadata_str}\\n\\n{content}', metadata_template='{key}: {value}', metadata_seperator='\\n'), score=0.7068467872800152),\n",
       " NodeWithScore(node=TextNode(id_='fb741001-09d1-4307-8280-78458c401400', embedding=None, metadata={}, excluded_embed_metadata_keys=[], excluded_llm_metadata_keys=[], relationships={<NodeRelationship.SOURCE: '1'>: RelatedNodeInfo(node_id='https://baike.baidu.com/item/颐和园', node_type=<ObjectType.DOCUMENT: '4'>, metadata={}, hash='f6e5546f58c9fc5d1ad40561ca6c2b05d6d1257e6f030c1a8bab75777e9c0390'), <NodeRelationship.PREVIOUS: '2'>: RelatedNodeInfo(node_id='255b4d0b-a272-49d0-aa71-b7c12ecca128', node_type=<ObjectType.TEXT: '1'>, metadata={}, hash='092c484d5ea0521bf378706b50dda8cca6068b841026b9d12a2cb41bdee2e265'), <NodeRelationship.NEXT: '3'>: RelatedNodeInfo(node_id='0d1fbb57-335d-4eef-96aa-c038e37f9da9', node_type=<ObjectType.TEXT: '1'>, metadata={}, hash='80b47de448ae429766232df02fbdfeb01171766141248ea8892ff9625936eaaa')}, text='颐和园的前身为万寿山清漪园，是清代分布在北京西北郊皇家园林区“三山五园”中最后兴建的一座。', mimetype='text/plain', start_char_idx=18293, end_char_idx=18338, text_template='{metadata_str}\\n\\n{content}', metadata_template='{key}: {value}', metadata_seperator='\\n'), score=0.6980161481470106)]"
      ]
     },
     "execution_count": 24,
     "metadata": {},
     "output_type": "execute_result"
    }
   ],
   "source": [
    "%%time\n",
    "\n",
    "retriever.retrieve(\n",
    "    \"颐和园在哪里\"\n",
    ")"
   ]
  },
  {
   "cell_type": "code",
   "execution_count": 25,
   "id": "861a5c39-d9e4-4547-8f61-de74ef88539e",
   "metadata": {},
   "outputs": [
    {
     "name": "stdout",
     "output_type": "stream",
     "text": [
      "CPU times: user 13.9 ms, sys: 4.14 ms, total: 18.1 ms\n",
      "Wall time: 1.47 s\n"
     ]
    },
    {
     "data": {
      "text/plain": [
       "57"
      ]
     },
     "execution_count": 25,
     "metadata": {},
     "output_type": "execute_result"
    }
   ],
   "source": [
    "%%time\n",
    "\n",
    "nodes=retriever.retrieve(\n",
    "    \"颐和园的历史\"\n",
    ")\n",
    "\n",
    "len(nodes)"
   ]
  },
  {
   "cell_type": "code",
   "execution_count": 26,
   "id": "43b15b2a-8d60-4fd2-8b91-3df88ef1c9fd",
   "metadata": {},
   "outputs": [
    {
     "name": "stdout",
     "output_type": "stream",
     "text": [
      "CPU times: user 32.5 ms, sys: 3.55 ms, total: 36 ms\n",
      "Wall time: 1.06 s\n"
     ]
    },
    {
     "data": {
      "text/plain": [
       "[NodeWithScore(node=TextNode(id_='6dcaed58-7dc5-4b01-b3a1-26d6abe914ea', embedding=None, metadata={}, excluded_embed_metadata_keys=[], excluded_llm_metadata_keys=[], relationships={<NodeRelationship.SOURCE: '1'>: RelatedNodeInfo(node_id='https://baike.baidu.com/item/东北虎', node_type=<ObjectType.DOCUMENT: '4'>, metadata={}, hash='665fb5ccb7f307f063b512fc4fbccf7be1d18d1eb61fa352b8789bd31b8a4c20'), <NodeRelationship.PREVIOUS: '2'>: RelatedNodeInfo(node_id='dd6b1ccc-6765-40bf-b6b6-e878980c2dd8', node_type=<ObjectType.TEXT: '1'>, metadata={}, hash='ff3ce8bd3c4cbf4c93ba3c2dc494bd47c75ba2df59a7f19c64415eaa5a419010'), <NodeRelationship.NEXT: '3'>: RelatedNodeInfo(node_id='c95c58fd-7160-4f1a-ad88-07be56b46eff', node_type=<ObjectType.TEXT: '1'>, metadata={}, hash='86792b80a2b6cbd90cb8b42cfb846cee581b4a9474375bae61cd065fe0f7dc15')}, text='[20]\\n成年东北虎雄性体重平均为250千克，头体长约为2.3米；成年母虎平均体重约为170千克，体长约为2米，肩高1.1米左右，尾长1.3米左右。最大身长可达2.9米（含尾长）。', mimetype='text/plain', start_char_idx=3081, end_char_idx=3171, text_template='{metadata_str}\\n\\n{content}', metadata_template='{key}: {value}', metadata_seperator='\\n'), score=0.7494431225775291),\n",
       " NodeWithScore(node=TextNode(id_='f005c95c-66a3-46cc-a676-ebd4f449bd5a', embedding=None, metadata={}, excluded_embed_metadata_keys=[], excluded_llm_metadata_keys=[], relationships={<NodeRelationship.SOURCE: '1'>: RelatedNodeInfo(node_id='https://baike.baidu.com/item/东北虎', node_type=<ObjectType.DOCUMENT: '4'>, metadata={}, hash='665fb5ccb7f307f063b512fc4fbccf7be1d18d1eb61fa352b8789bd31b8a4c20'), <NodeRelationship.NEXT: '3'>: RelatedNodeInfo(node_id='1b422fa7-bbd0-465e-96be-a72553939973', node_type=<ObjectType.TEXT: '1'>, metadata={}, hash='95ee6111e09108c1130d4171a2577a8dd4c0fac5f40a523f398a8fe17dfd8aca')}, text='东北虎（学名：Panthera tigris ssp. altaica）：是猫科、豹属动物。是虎的亚种之一。是体重最大的猫科动物，成年东北虎雄性体重平均为250千克，头体长约为2.3米；成年母虎平均体重约为170千克，体长约为2米，肩高1.', mimetype='text/plain', start_char_idx=0, end_char_idx=120, text_template='{metadata_str}\\n\\n{content}', metadata_template='{key}: {value}', metadata_seperator='\\n'), score=0.6606657345372211)]"
      ]
     },
     "execution_count": 26,
     "metadata": {},
     "output_type": "execute_result"
    }
   ],
   "source": [
    "%%time\n",
    "\n",
    "retriever.retrieve(\n",
    "    \"东北虎一般有多重\"\n",
    ")"
   ]
  },
  {
   "cell_type": "code",
   "execution_count": 27,
   "id": "838f0df2-6802-4029-bc8a-2dfb41c5286b",
   "metadata": {},
   "outputs": [
    {
     "name": "stdout",
     "output_type": "stream",
     "text": [
      "CPU times: user 13.2 ms, sys: 4.04 ms, total: 17.3 ms\n",
      "Wall time: 1.47 s\n"
     ]
    },
    {
     "data": {
      "text/plain": [
       "44"
      ]
     },
     "execution_count": 27,
     "metadata": {},
     "output_type": "execute_result"
    }
   ],
   "source": [
    "%%time\n",
    "\n",
    "nodes=retriever.retrieve(\n",
    "    \"介绍下东北虎\"\n",
    ")\n",
    "len(nodes)"
   ]
  },
  {
   "cell_type": "markdown",
   "id": "f98d39ea-c039-41be-ac51-0c7ffe7443b7",
   "metadata": {},
   "source": [
    "### 查询引擎"
   ]
  },
  {
   "cell_type": "code",
   "execution_count": 28,
   "id": "759f4d1a-9147-4b74-a070-e7445909b083",
   "metadata": {},
   "outputs": [
    {
     "name": "stdout",
     "output_type": "stream",
     "text": [
      "CPU times: user 162 μs, sys: 23 μs, total: 185 μs\n",
      "Wall time: 188 μs\n"
     ]
    }
   ],
   "source": [
    "%%time\n",
    "\n",
    "from llama_index.core import get_response_synthesizer\n",
    "from llama_index.core.query_engine import RetrieverQueryEngine\n",
    "\n",
    "response_synthesizer = get_response_synthesizer(\n",
    "    response_mode=\"tree_summarize\",\n",
    "    streaming=True,\n",
    ")\n",
    "\n",
    "query_engine = RetrieverQueryEngine(\n",
    "    retriever=retriever,\n",
    "    response_synthesizer=response_synthesizer,\n",
    ")"
   ]
  },
  {
   "cell_type": "code",
   "execution_count": 29,
   "id": "123b72ed-a570-4a60-9daa-b596f84d882d",
   "metadata": {},
   "outputs": [
    {
     "name": "stdout",
     "output_type": "stream",
     "text": [
      "位于北京市西郊海淀区新建宫门路19号。CPU times: user 71.8 ms, sys: 1.68 ms, total: 73.4 ms\n",
      "Wall time: 1.68 s\n"
     ]
    }
   ],
   "source": [
    "%%time\n",
    "\n",
    "response = query_engine.query(\"颐和园在哪里\")\n",
    "response.print_response_stream()"
   ]
  },
  {
   "cell_type": "code",
   "execution_count": 30,
   "id": "66aa6761-78b2-4cae-963f-b0fdfb69bfb0",
   "metadata": {},
   "outputs": [
    {
     "name": "stdout",
     "output_type": "stream",
     "text": [
      "颐和园位于北京市海淀区，是中国著名的皇家园林，其历史可追溯至清朝乾隆年间。最初名为“清漪园”，由乾隆皇帝于1750年左右下令建造，作为庆祝其母皇太后70寿辰的礼物。该园林占地约290公顷，以昆明湖为中心，建筑宏伟，景色秀丽。\n",
      "\n",
      "然而，1860年英法联军入侵北京时，清漪园遭到严重破坏，大部分建筑被焚毁。1886年，清廷开始重建清漪园，两年后更名为颐和园。慈禧太后归政光绪后，将颐和园作为自己的“颐养冲和”之所。\n",
      "\n",
      "1900年八国联军攻入北京，颐和园再次遭受浩劫，园藏文物被毁掠一空。但不久之后，慈禧太后回京后，不顾国家危难，再次修复颐和园，并大力充实园内陈设。\n",
      "\n",
      "新中国成立后，特别是改革开放以来，颐和园得到了妥善的保护。目前，园内收藏有四万余件文物，涵盖了中国传世文物的所有门类。1998年，颐和园被联合国教科文组织列入《世界遗产名录》，成为全人类共同的文化财富。如今，它已成为国内外游客的热门旅游目的地，每年吸引着大量游客前来参观游览。CPU times: user 702 ms, sys: 127 ms, total: 829 ms\n",
      "Wall time: 3min 5s\n"
     ]
    }
   ],
   "source": [
    "%%time\n",
    "\n",
    "response = query_engine.query(\"介绍下颐和园的历史\")\n",
    "response.print_response_stream()"
   ]
  },
  {
   "cell_type": "code",
   "execution_count": 31,
   "id": "842d48c5-2023-44cf-ba87-f4d9060a22d0",
   "metadata": {},
   "outputs": [
    {
     "name": "stdout",
     "output_type": "stream",
     "text": [
      "成年东北虎雄性体重平均为250千克。CPU times: user 67.3 ms, sys: 425 μs, total: 67.8 ms\n",
      "Wall time: 1.79 s\n"
     ]
    }
   ],
   "source": [
    "%%time\n",
    "\n",
    "response = query_engine.query(\"东北虎一般有多重\")\n",
    "response.print_response_stream()"
   ]
  },
  {
   "cell_type": "code",
   "execution_count": 32,
   "id": "2b7ffa24-2fe6-445c-b0c7-57a84d828f7a",
   "metadata": {},
   "outputs": [
    {
     "name": "stdout",
     "output_type": "stream",
     "text": [
      "东北虎，学名Panthera tigris altaica，是猫科豹属的一种大型猛兽。主要分布在俄罗斯远东地区和中国东北地区。体型庞大，雄性体重约300公斤，雌性较轻。皮毛呈橙黄色，带有黑色条纹，尾巴末端为黑色。性格孤独，通常独自生活，繁殖季节寻找配偶。历史上数量减少，20世纪中叶以来有所恢复，但仍面临非法狩猎和贸易的威胁。东北虎是顶级掠食者，以大型哺乳动物为主食，如鹿、野猪等。繁殖期在冬季，怀孕期约105-110天，每产2-4仔。与已灭绝的里海虎有最近的亲缘关系，全球野生数量估计不足400只，被列为濒危物种。中国政府采取了一系列保护措施，包括建立自然保护区和加强执法力度。CPU times: user 486 ms, sys: 73.3 ms, total: 559 ms\n",
      "Wall time: 1min 26s\n"
     ]
    }
   ],
   "source": [
    "%%time\n",
    "\n",
    "response = query_engine.query(\"介绍下东北虎\")\n",
    "response.print_response_stream()"
   ]
  },
  {
   "cell_type": "markdown",
   "id": "f7f0f326-16b3-45c2-bb0a-21fb0b6e8d9f",
   "metadata": {},
   "source": [
    "## 结论"
   ]
  },
  {
   "cell_type": "markdown",
   "id": "f8bd617c-7d59-4512-85f0-654d7312ff2f",
   "metadata": {},
   "source": [
    "- 路由方式可以处理很多不同的检索器，可灵活增加数据来源\n",
    "- SummaryIndex\n",
    "    - 不适合过大的节点集合，因为它要在 `response_synthesis` 阶段，逐个将节点文档、提示词和之前的查询结果交由 LLM 处理，十分耗时\n",
    "    - 适合用于节点数和内容少的数据实时摘要，或者对大文档数据源做预处理生成摘要"
   ]
  },
  {
   "cell_type": "code",
   "execution_count": null,
   "id": "e5ce5e92-edb9-403b-989b-598b22d44329",
   "metadata": {},
   "outputs": [],
   "source": []
  }
 ],
 "metadata": {
  "kernelspec": {
   "display_name": "Python 3 (ipykernel)",
   "language": "python",
   "name": "python3"
  },
  "language_info": {
   "codemirror_mode": {
    "name": "ipython",
    "version": 3
   },
   "file_extension": ".py",
   "mimetype": "text/x-python",
   "name": "python",
   "nbconvert_exporter": "python",
   "pygments_lexer": "ipython3",
   "version": "3.10.12"
  }
 },
 "nbformat": 4,
 "nbformat_minor": 5
}
