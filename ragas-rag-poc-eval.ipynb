{
 "cells": [
  {
   "cell_type": "markdown",
   "id": "1cdb2877-322a-4998-92f1-5e9cc497af8a",
   "metadata": {},
   "source": [
    "# 使用 Ragas 做概念验证阶段评估"
   ]
  },
  {
   "cell_type": "markdown",
   "id": "d98f5869-51af-4646-84ea-5b0ad1816429",
   "metadata": {},
   "source": [
    "使用 Ragas 对 RAG 做概念验证阶段的性能评估：\n",
    "\n",
    "- 创建一个简易的 RAG\n",
    "- 给出一个真实答案的数据集\n",
    "- 通过 Ragas 和数据集，对 RAG 做性能评估\n",
    "    - 针对 LLM 生成内容\n",
    "        - faithfulness，回答忠实性，生成答案的事实准确性\n",
    "        - answer relevancy，答案相关性，生成的答案与问题的相关程度\n",
    "    - 针对检索上下文内容\n",
    "        - context precision，检索到的上下文精度\n",
    "        - context recall，是否检索到回答问题所需的所有相关信息"
   ]
  },
  {
   "cell_type": "markdown",
   "id": "29a9743a-1fbd-40c6-b5c9-68b28ea31417",
   "metadata": {},
   "source": [
    "## 创建简易的 RAG"
   ]
  },
  {
   "cell_type": "code",
   "execution_count": 4,
   "id": "1d1b7a9b-c890-4d4f-af12-9b12ffe71fd2",
   "metadata": {},
   "outputs": [
    {
     "name": "stdout",
     "output_type": "stream",
     "text": [
      "CPU times: user 32.7 ms, sys: 30.8 ms, total: 63.5 ms\n",
      "Wall time: 10.4 s\n"
     ]
    }
   ],
   "source": [
    "%%time\n",
    "%%capture\n",
    "\n",
    "!pip install trafilatura\n",
    "!pip install pandas\n",
    "!pip install llama-index\n",
    "!pip install llama-index-readers-web"
   ]
  },
  {
   "cell_type": "markdown",
   "id": "7c73b047-6492-4dc3-8e59-a58699abefcb",
   "metadata": {},
   "source": [
    "### 加载文档"
   ]
  },
  {
   "cell_type": "code",
   "execution_count": 6,
   "id": "6eb6141e-ad6a-4ebf-be91-cec3428e2a30",
   "metadata": {},
   "outputs": [
    {
     "name": "stdout",
     "output_type": "stream",
     "text": [
      "CPU times: user 108 ms, sys: 6.95 ms, total: 115 ms\n",
      "Wall time: 163 ms\n"
     ]
    },
    {
     "data": {
      "text/plain": [
       "'北海公园（Beihai Park），位于北京市西城区文津街1号，东邻景山公园，南濒中南海，北连什刹海，全园占地68.2万平方米（其中水域面积38.9万平方米，陆地面积29.3万平方米），1925年开放为公园。 [3] [28]\\n2023年4月，北海公园入选第二批国家级文明旅游示范单位公示名单。 [37]\\n- 中文名\\n- 北海公园\\n- 外文名\\n- Beihai Park\\n- 地理位置\\n- 北京市西城区文津街1号\\n- 气候条件\\n- 温带季风气候\\n- 开放时间\\n- 4月1日-10月31日 06:00-21:00；11月1日-次年3月31日 06:30-20:00 [1]\\n- 景点级别\\n- AAAA级\\n- 门票价格\\n- 旺季10元，淡季5元\\n- 占地面积\\n- 682000 m²（其中水面积38.9万平方米，陆地面积29.3万平方米）\\n- 著名景点\\n- 琼华岛、永安寺、北海白塔\\n北海公园原为辽燕京城东北一片湖泊，名金海。中有小岛名瑶屿，辽在此建“瑶屿行宫”。金大定三年至十九年（1163年—1179年），金世宗仿照北宋汴梁（今河南开封）艮岳园，建琼华岛，并从“艮岳”御苑运来大量太湖石砌成假山岩洞，'"
      ]
     },
     "execution_count": 6,
     "metadata": {},
     "output_type": "execute_result"
    }
   ],
   "source": [
    "%%time\n",
    "\n",
    "from llama_index.readers.web import TrafilaturaWebReader\n",
    "\n",
    "item=\"北海公园\"\n",
    "\n",
    "documents = TrafilaturaWebReader().load_data(\n",
    "    [ f\"https://baike.baidu.com/item/{item}\" ]\n",
    ")\n",
    "\n",
    "documents[0].text[:500]"
   ]
  },
  {
   "cell_type": "markdown",
   "id": "b7eefc47-beba-459d-9ae3-18d3e6676ae5",
   "metadata": {},
   "source": [
    "### 设置 LLM、嵌入和分块参数"
   ]
  },
  {
   "cell_type": "code",
   "execution_count": null,
   "id": "6d3074e4-928a-4df6-95ec-2026359eadb4",
   "metadata": {},
   "outputs": [],
   "source": [
    "%%time\n",
    "%%capture\n",
    "\n",
    "!pip install llama-index-llms-openai-like\n",
    "!pip install llama-index-embeddings-ollama"
   ]
  },
  {
   "cell_type": "code",
   "execution_count": 8,
   "id": "f70f3c6b-93c5-46fe-91d4-fca64a10fb5d",
   "metadata": {},
   "outputs": [
    {
     "name": "stdout",
     "output_type": "stream",
     "text": [
      "CPU times: user 174 ms, sys: 15.4 ms, total: 189 ms\n",
      "Wall time: 189 ms\n"
     ]
    }
   ],
   "source": [
    "%%time\n",
    "\n",
    "from llama_index.core import Settings\n",
    "from llama_index.llms.openai_like import OpenAILike\n",
    "from llama_index.embeddings.ollama import OllamaEmbedding\n",
    "\n",
    "Settings.llm=OpenAILike(\n",
    "    model=\"qwen2\", \n",
    "    api_base=\"http://ape:3000/v1\", \n",
    "    api_key=\"sk-bJP6QSnUfjAYeYeE505d3eBf63A643BeB0B8E350Df9b7750\",\n",
    "    is_chat_model=True,\n",
    "    temperature=0.1,\n",
    "    request_timeout=60.0\n",
    ")\n",
    "\n",
    "Settings.embed_model = OllamaEmbedding(\n",
    "    model_name=\"quentinz/bge-large-zh-v1.5\",\n",
    "    base_url=\"http://ape:11434\",\n",
    "    ollama_additional_kwargs={\"mirostat\": 0}, # -mirostat N 使用 Mirostat 采样。\n",
    ")\n",
    "\n",
    "Settings.chunk_size = 128\n",
    "Settings.chunk_overlap = 10"
   ]
  },
  {
   "cell_type": "markdown",
   "id": "c188139f-9547-4374-ae77-c3fab5cb47eb",
   "metadata": {},
   "source": [
    "### 创建索引和查询引擎"
   ]
  },
  {
   "cell_type": "code",
   "execution_count": 17,
   "id": "72a8b1dd-3bce-4d99-abf1-0e6faf0ff76f",
   "metadata": {},
   "outputs": [
    {
     "name": "stdout",
     "output_type": "stream",
     "text": [
      "CPU times: user 379 ms, sys: 17 ms, total: 396 ms\n",
      "Wall time: 5.99 s\n"
     ]
    }
   ],
   "source": [
    "%%time\n",
    "\n",
    "from llama_index.core import VectorStoreIndex\n",
    "\n",
    "vector_index = VectorStoreIndex.from_documents(documents)\n",
    "query_engine = vector_index.as_query_engine(streaming=True)"
   ]
  },
  {
   "cell_type": "code",
   "execution_count": 38,
   "id": "cf6dacb1-691c-44ee-90ce-cdfa86ed8375",
   "metadata": {},
   "outputs": [
    {
     "name": "stdout",
     "output_type": "stream",
     "text": [
      "北海公园位于北京市西城区文津街1号。\n",
      "CPU times: user 35.8 ms, sys: 6.1 ms, total: 41.9 ms\n",
      "Wall time: 534 ms\n"
     ]
    }
   ],
   "source": [
    "%%time\n",
    "\n",
    "response = query_engine.query(\"北海公园在哪里？\")\n",
    "response.print_response_stream()\n",
    "print()"
   ]
  },
  {
   "cell_type": "markdown",
   "id": "0a4292c3-6c67-4dd9-a955-7dbbe58a4711",
   "metadata": {},
   "source": [
    "## 创建测试用数据集"
   ]
  },
  {
   "cell_type": "code",
   "execution_count": 21,
   "id": "996e2ece-d64c-4457-8d30-e21fc0e34924",
   "metadata": {},
   "outputs": [
    {
     "name": "stdout",
     "output_type": "stream",
     "text": [
      "CPU times: user 41.1 ms, sys: 7.68 ms, total: 48.8 ms\n",
      "Wall time: 9.12 s\n"
     ]
    }
   ],
   "source": [
    "%%time\n",
    "%%capture\n",
    "\n",
    "!pip install datasets"
   ]
  },
  {
   "cell_type": "code",
   "execution_count": 22,
   "id": "a4d719f5-0549-4836-98b1-395887f8a17a",
   "metadata": {},
   "outputs": [
    {
     "name": "stdout",
     "output_type": "stream",
     "text": [
      "CPU times: user 184 ms, sys: 28.7 ms, total: 213 ms\n",
      "Wall time: 250 ms\n"
     ]
    }
   ],
   "source": [
    "%%time\n",
    "\n",
    "from datasets import Dataset \n",
    "\n",
    "data_samples = {\n",
    "    'question': ['北海公园在哪里？', ],\n",
    "    'contexts' : ['北海公园（Beihai Park），位于北京市西城区文津街1号，东邻景山公园，南濒中南海，北连什刹海，全园占地68.2万平方米（其中水域面积38.9万平方米，陆地面积29.3万平方米），1925年开放为公园。'],\n",
    "    'ground_truth': ['北海公园位于北京市西城区文津街1号，东邻景山公园，南濒中南海，北连什刹海。'],\n",
    "    \n",
    "}"
   ]
  },
  {
   "cell_type": "code",
   "execution_count": 23,
   "id": "1e3e6cdd-9241-46d5-8eed-9abeeb08d44e",
   "metadata": {},
   "outputs": [
    {
     "name": "stdout",
     "output_type": "stream",
     "text": [
      "CPU times: user 666 μs, sys: 104 μs, total: 770 μs\n",
      "Wall time: 772 μs\n"
     ]
    },
    {
     "data": {
      "text/html": [
       "<div>\n",
       "<style scoped>\n",
       "    .dataframe tbody tr th:only-of-type {\n",
       "        vertical-align: middle;\n",
       "    }\n",
       "\n",
       "    .dataframe tbody tr th {\n",
       "        vertical-align: top;\n",
       "    }\n",
       "\n",
       "    .dataframe thead th {\n",
       "        text-align: right;\n",
       "    }\n",
       "</style>\n",
       "<table border=\"1\" class=\"dataframe\">\n",
       "  <thead>\n",
       "    <tr style=\"text-align: right;\">\n",
       "      <th></th>\n",
       "      <th>question</th>\n",
       "      <th>contexts</th>\n",
       "      <th>ground_truth</th>\n",
       "    </tr>\n",
       "  </thead>\n",
       "  <tbody>\n",
       "    <tr>\n",
       "      <th>0</th>\n",
       "      <td>北海公园在哪里？</td>\n",
       "      <td>北海公园（Beihai Park），位于北京市西城区文津街1号，东邻景山公园，南濒中南海，北...</td>\n",
       "      <td>北海公园位于北京市西城区文津街1号，东邻景山公园，南濒中南海，北连什刹海。</td>\n",
       "    </tr>\n",
       "  </tbody>\n",
       "</table>\n",
       "</div>"
      ],
      "text/plain": [
       "   question                                           contexts  \\\n",
       "0  北海公园在哪里？  北海公园（Beihai Park），位于北京市西城区文津街1号，东邻景山公园，南濒中南海，北...   \n",
       "\n",
       "                            ground_truth  \n",
       "0  北海公园位于北京市西城区文津街1号，东邻景山公园，南濒中南海，北连什刹海。  "
      ]
     },
     "execution_count": 23,
     "metadata": {},
     "output_type": "execute_result"
    }
   ],
   "source": [
    "%%time\n",
    "\n",
    "import pandas as pd\n",
    "\n",
    "# 创建Pandas DataFrame\n",
    "df = pd.DataFrame(data_samples)\n",
    "\n",
    "df.head()"
   ]
  },
  {
   "cell_type": "markdown",
   "id": "2e1710a0-aeb9-4a3e-8ba4-7c33d1f90e8b",
   "metadata": {},
   "source": [
    "## 使用 Ragas 评估"
   ]
  },
  {
   "cell_type": "markdown",
   "id": "c88d4297-c638-43f4-aadf-483cdd974641",
   "metadata": {},
   "source": [
    "### 设置评估用 LLM"
   ]
  },
  {
   "cell_type": "code",
   "execution_count": 27,
   "id": "aeba6a2a-4e0c-4817-b3a1-f7021c1edd98",
   "metadata": {},
   "outputs": [
    {
     "name": "stdout",
     "output_type": "stream",
     "text": [
      "CPU times: user 485 μs, sys: 76 μs, total: 561 μs\n",
      "Wall time: 565 μs\n"
     ]
    }
   ],
   "source": [
    "%%time\n",
    "\n",
    "evaluator_llm = OpenAILike(\n",
    "    model=\"gpt-3.5-turbo\", \n",
    "    api_base=\"http://ape:3000/v1\", \n",
    "    api_key=\"sk-bJP6QSnUfjAYeYeE505d3eBf63A643BeB0B8E350Df9b7750\",\n",
    "    is_chat_model=True,\n",
    "    temperature=0.1,\n",
    "    request_timeout=60.0\n",
    ")"
   ]
  },
  {
   "cell_type": "markdown",
   "id": "67105cbe-5ea2-480d-a790-d9b57785e6fc",
   "metadata": {},
   "source": [
    "### 使用 Ragas"
   ]
  },
  {
   "cell_type": "code",
   "execution_count": 26,
   "id": "3c25dd40-ff38-4f3a-9735-8ce52b4dd990",
   "metadata": {},
   "outputs": [
    {
     "name": "stdout",
     "output_type": "stream",
     "text": [
      "CPU times: user 31.2 ms, sys: 7.93 ms, total: 39.1 ms\n",
      "Wall time: 7.33 s\n"
     ]
    }
   ],
   "source": [
    "%%time\n",
    "%%capture\n",
    "\n",
    "!pip install ragas"
   ]
  },
  {
   "cell_type": "code",
   "execution_count": 28,
   "id": "7ba76d71-ba5b-4a2d-abfd-71188a1fe9d3",
   "metadata": {},
   "outputs": [
    {
     "name": "stdout",
     "output_type": "stream",
     "text": [
      "CPU times: user 332 ms, sys: 35 ms, total: 367 ms\n",
      "Wall time: 375 ms\n"
     ]
    }
   ],
   "source": [
    "%%time\n",
    "\n",
    "from ragas.metrics import (\n",
    "    faithfulness,\n",
    "    answer_relevancy,\n",
    "    context_precision,\n",
    "    context_recall,\n",
    ")\n",
    "from ragas.metrics.critique import harmfulness\n",
    "\n",
    "metrics = [\n",
    "    faithfulness,\n",
    "    answer_relevancy,\n",
    "    context_precision,\n",
    "    context_recall,\n",
    "    harmfulness,\n",
    "]"
   ]
  },
  {
   "cell_type": "code",
   "execution_count": 34,
   "id": "fb5da21b-fd93-4371-b477-251ace25ddbb",
   "metadata": {},
   "outputs": [
    {
     "data": {
      "application/vnd.jupyter.widget-view+json": {
       "model_id": "979c7ab8afe847a58c520bfa62a542ac",
       "version_major": 2,
       "version_minor": 0
      },
      "text/plain": [
       "Running Query Engine:   0%|          | 0/1 [00:00<?, ?it/s]"
      ]
     },
     "metadata": {},
     "output_type": "display_data"
    },
    {
     "data": {
      "application/vnd.jupyter.widget-view+json": {
       "model_id": "6faafae4207241bcb5d701927553166d",
       "version_major": 2,
       "version_minor": 0
      },
      "text/plain": [
       "Evaluating:   0%|          | 0/5 [00:00<?, ?it/s]"
      ]
     },
     "metadata": {},
     "output_type": "display_data"
    },
    {
     "name": "stderr",
     "output_type": "stream",
     "text": [
      "n values greater than 1 not support for LlamaIndex LLMs\n"
     ]
    },
    {
     "name": "stdout",
     "output_type": "stream",
     "text": [
      "CPU times: user 153 ms, sys: 21.3 ms, total: 174 ms\n",
      "Wall time: 10.4 s\n"
     ]
    }
   ],
   "source": [
    "%%time\n",
    "\n",
    "from ragas.integrations.llama_index import evaluate\n",
    "\n",
    "result = evaluate(\n",
    "    query_engine=vector_index.as_query_engine(),\n",
    "    metrics=metrics,\n",
    "    dataset=data_samples,\n",
    "    llm=evaluator_llm,\n",
    "    embeddings=Settings.embed_model,\n",
    ")"
   ]
  },
  {
   "cell_type": "code",
   "execution_count": 35,
   "id": "8a2d0e10-6900-42c7-9c01-4f903cd0b4ab",
   "metadata": {},
   "outputs": [
    {
     "data": {
      "text/html": [
       "<div>\n",
       "<style scoped>\n",
       "    .dataframe tbody tr th:only-of-type {\n",
       "        vertical-align: middle;\n",
       "    }\n",
       "\n",
       "    .dataframe tbody tr th {\n",
       "        vertical-align: top;\n",
       "    }\n",
       "\n",
       "    .dataframe thead th {\n",
       "        text-align: right;\n",
       "    }\n",
       "</style>\n",
       "<table border=\"1\" class=\"dataframe\">\n",
       "  <thead>\n",
       "    <tr style=\"text-align: right;\">\n",
       "      <th></th>\n",
       "      <th>question</th>\n",
       "      <th>contexts</th>\n",
       "      <th>answer</th>\n",
       "      <th>ground_truth</th>\n",
       "      <th>faithfulness</th>\n",
       "      <th>answer_relevancy</th>\n",
       "      <th>context_precision</th>\n",
       "      <th>context_recall</th>\n",
       "      <th>harmfulness</th>\n",
       "    </tr>\n",
       "  </thead>\n",
       "  <tbody>\n",
       "    <tr>\n",
       "      <th>0</th>\n",
       "      <td>北海公园在哪里？</td>\n",
       "      <td>[北海公园（Beihai Park），位于北京市西城区文津街1号，东邻景山公园，南濒中南海，...</td>\n",
       "      <td>北海公园位于北京市西城区文津街1号。</td>\n",
       "      <td>北海公园位于北京市西城区文津街1号，东邻景山公园，南濒中南海，北连什刹海。</td>\n",
       "      <td>1.0</td>\n",
       "      <td>0.550745</td>\n",
       "      <td>1.0</td>\n",
       "      <td>1.0</td>\n",
       "      <td>0</td>\n",
       "    </tr>\n",
       "  </tbody>\n",
       "</table>\n",
       "</div>"
      ],
      "text/plain": [
       "   question                                           contexts  \\\n",
       "0  北海公园在哪里？  [北海公园（Beihai Park），位于北京市西城区文津街1号，东邻景山公园，南濒中南海，...   \n",
       "\n",
       "               answer                           ground_truth  faithfulness  \\\n",
       "0  北海公园位于北京市西城区文津街1号。  北海公园位于北京市西城区文津街1号，东邻景山公园，南濒中南海，北连什刹海。           1.0   \n",
       "\n",
       "   answer_relevancy  context_precision  context_recall  harmfulness  \n",
       "0          0.550745                1.0             1.0            0  "
      ]
     },
     "execution_count": 35,
     "metadata": {},
     "output_type": "execute_result"
    }
   ],
   "source": [
    "result.to_pandas()"
   ]
  },
  {
   "cell_type": "code",
   "execution_count": 36,
   "id": "072f5a58-593a-4b4b-9170-adb14b1d0278",
   "metadata": {},
   "outputs": [
    {
     "data": {
      "text/html": [
       "<div>\n",
       "<style scoped>\n",
       "    .dataframe tbody tr th:only-of-type {\n",
       "        vertical-align: middle;\n",
       "    }\n",
       "\n",
       "    .dataframe tbody tr th {\n",
       "        vertical-align: top;\n",
       "    }\n",
       "\n",
       "    .dataframe thead th {\n",
       "        text-align: right;\n",
       "    }\n",
       "</style>\n",
       "<table border=\"1\" class=\"dataframe\">\n",
       "  <thead>\n",
       "    <tr style=\"text-align: right;\">\n",
       "      <th></th>\n",
       "      <th>faithfulness</th>\n",
       "      <th>answer_relevancy</th>\n",
       "      <th>context_precision</th>\n",
       "      <th>context_recall</th>\n",
       "      <th>harmfulness</th>\n",
       "    </tr>\n",
       "  </thead>\n",
       "  <tbody>\n",
       "    <tr>\n",
       "      <th>0</th>\n",
       "      <td>1.0</td>\n",
       "      <td>0.550745</td>\n",
       "      <td>1.0</td>\n",
       "      <td>1.0</td>\n",
       "      <td>0</td>\n",
       "    </tr>\n",
       "  </tbody>\n",
       "</table>\n",
       "</div>"
      ],
      "text/plain": [
       "   faithfulness  answer_relevancy  context_precision  context_recall  \\\n",
       "0           1.0          0.550745                1.0             1.0   \n",
       "\n",
       "   harmfulness  \n",
       "0            0  "
      ]
     },
     "execution_count": 36,
     "metadata": {},
     "output_type": "execute_result"
    }
   ],
   "source": [
    "result.scores.to_pandas()"
   ]
  },
  {
   "cell_type": "code",
   "execution_count": null,
   "id": "64d73568-8837-451f-bb96-bb53d750b5d9",
   "metadata": {},
   "outputs": [],
   "source": []
  }
 ],
 "metadata": {
  "kernelspec": {
   "display_name": "Python 3 (ipykernel)",
   "language": "python",
   "name": "python3"
  },
  "language_info": {
   "codemirror_mode": {
    "name": "ipython",
    "version": 3
   },
   "file_extension": ".py",
   "mimetype": "text/x-python",
   "name": "python",
   "nbconvert_exporter": "python",
   "pygments_lexer": "ipython3",
   "version": "3.10.12"
  }
 },
 "nbformat": 4,
 "nbformat_minor": 5
}
