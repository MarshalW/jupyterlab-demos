{
 "cells": [
  {
   "cell_type": "markdown",
   "id": "53620c7f-94ef-4050-89b6-a2acbec23bcd",
   "metadata": {},
   "source": [
    "# 通过 LlamaIndex 使用自然语言查询数据库"
   ]
  },
  {
   "cell_type": "markdown",
   "id": "521e627f-ebdf-4780-8bab-33dc83d9669f",
   "metadata": {},
   "source": [
    "## 准备数据"
   ]
  },
  {
   "cell_type": "code",
   "execution_count": 1,
   "id": "e39ce5aa-42de-4875-870e-204aab934ae5",
   "metadata": {},
   "outputs": [
    {
     "name": "stdout",
     "output_type": "stream",
     "text": [
      "CPU times: user 14.7 ms, sys: 7.64 ms, total: 22.3 ms\n",
      "Wall time: 2.04 s\n"
     ]
    }
   ],
   "source": [
    "%%time\n",
    "%%capture\n",
    "\n",
    "# 使用 sqlalchemy 创建 sql 表结构和示例数据\n",
    "!pip install sqlalchemy"
   ]
  },
  {
   "cell_type": "code",
   "execution_count": 2,
   "id": "8c1297a2-eaa2-411c-9909-01375d03ecbf",
   "metadata": {},
   "outputs": [
    {
     "name": "stdout",
     "output_type": "stream",
     "text": [
      "CPU times: user 93.4 ms, sys: 16.4 ms, total: 110 ms\n",
      "Wall time: 108 ms\n"
     ]
    }
   ],
   "source": [
    "%%time\n",
    "\n",
    "# 建立连接和表\n",
    "from sqlalchemy import (\n",
    "    create_engine,\n",
    "    MetaData,\n",
    "    Table,\n",
    "    Column,\n",
    "    String,\n",
    "    Integer,\n",
    "    select,\n",
    ")\n",
    "\n",
    "engine = create_engine(\"sqlite:///:memory:\")\n",
    "metadata_obj = MetaData()\n",
    "\n",
    "# 创建学校信息表结构\n",
    "table_name = \"school_info\"\n",
    "school_info_table = Table(\n",
    "    table_name,\n",
    "    metadata_obj,\n",
    "    Column(\"school_name\", String(200), primary_key=True),\n",
    "    Column(\"students_enrolled\", Integer,nullable=False),\n",
    ")\n",
    "metadata_obj.create_all(engine)"
   ]
  },
  {
   "cell_type": "code",
   "execution_count": 3,
   "id": "63b3a88d-ad38-42e1-a8f1-ecaff633f139",
   "metadata": {},
   "outputs": [
    {
     "name": "stdout",
     "output_type": "stream",
     "text": [
      "CPU times: user 1.35 ms, sys: 3.08 ms, total: 4.44 ms\n",
      "Wall time: 3.63 ms\n"
     ]
    }
   ],
   "source": [
    "%%time\n",
    "\n",
    "from sqlalchemy import insert\n",
    "\n",
    "# 插入学校信息记录\n",
    "rows = [\n",
    "    {\"school_name\": \"北京市第八十中学\", \"students_enrolled\": 260},\n",
    "    {\"school_name\": \"北京市陈经纶中学\", \"students_enrolled\": 279},\n",
    "    {\"school_name\": \"北京市日坛中学\", \"students_enrolled\": 403},\n",
    "    {\"school_name\": \"中国人民大学附属中学朝阳学校\", \"students_enrolled\": 247},\n",
    "    {\"school_name\": \"北京工业大学附属中学\", \"students_enrolled\": 418},\n",
    "    {\"school_name\": \"北京中学\", \"students_enrolled\": 121},\n",
    "]\n",
    "for row in rows:\n",
    "    stmt = insert(school_info_table).values(**row)\n",
    "    with engine.begin() as connection:\n",
    "        cursor = connection.execute(stmt)"
   ]
  },
  {
   "cell_type": "code",
   "execution_count": 4,
   "id": "079da9eb-12a2-4dd3-bd93-9fb003f96a91",
   "metadata": {},
   "outputs": [
    {
     "name": "stdout",
     "output_type": "stream",
     "text": [
      "Looking in indexes: https://pypi.tuna.tsinghua.edu.cn/simple\n",
      "Requirement already satisfied: pandas in /usr/local/lib/python3.10/dist-packages (2.2.2)\n",
      "Requirement already satisfied: numpy>=1.22.4 in /usr/local/lib/python3.10/dist-packages (from pandas) (1.26.4)\n",
      "Requirement already satisfied: tzdata>=2022.7 in /usr/local/lib/python3.10/dist-packages (from pandas) (2024.1)\n",
      "Requirement already satisfied: python-dateutil>=2.8.2 in /usr/local/lib/python3.10/dist-packages (from pandas) (2.9.0.post0)\n",
      "Requirement already satisfied: pytz>=2020.1 in /usr/local/lib/python3.10/dist-packages (from pandas) (2024.1)\n",
      "Requirement already satisfied: six>=1.5 in /usr/local/lib/python3.10/dist-packages (from python-dateutil>=2.8.2->pandas) (1.16.0)\n",
      "\u001b[33mWARNING: Running pip as the 'root' user can result in broken permissions and conflicting behaviour with the system package manager. It is recommended to use a virtual environment instead: https://pip.pypa.io/warnings/venv\u001b[0m\u001b[33m\n",
      "\u001b[0mCPU times: user 476 ms, sys: 299 ms, total: 775 ms\n",
      "Wall time: 2.33 s\n"
     ]
    },
    {
     "data": {
      "text/html": [
       "<div>\n",
       "<style scoped>\n",
       "    .dataframe tbody tr th:only-of-type {\n",
       "        vertical-align: middle;\n",
       "    }\n",
       "\n",
       "    .dataframe tbody tr th {\n",
       "        vertical-align: top;\n",
       "    }\n",
       "\n",
       "    .dataframe thead th {\n",
       "        text-align: right;\n",
       "    }\n",
       "</style>\n",
       "<table border=\"1\" class=\"dataframe\">\n",
       "  <thead>\n",
       "    <tr style=\"text-align: right;\">\n",
       "      <th></th>\n",
       "      <th>school_name</th>\n",
       "      <th>students_enrolled</th>\n",
       "    </tr>\n",
       "  </thead>\n",
       "  <tbody>\n",
       "    <tr>\n",
       "      <th>0</th>\n",
       "      <td>北京市第八十中学</td>\n",
       "      <td>260</td>\n",
       "    </tr>\n",
       "    <tr>\n",
       "      <th>1</th>\n",
       "      <td>北京市陈经纶中学</td>\n",
       "      <td>279</td>\n",
       "    </tr>\n",
       "    <tr>\n",
       "      <th>2</th>\n",
       "      <td>北京市日坛中学</td>\n",
       "      <td>403</td>\n",
       "    </tr>\n",
       "    <tr>\n",
       "      <th>3</th>\n",
       "      <td>中国人民大学附属中学朝阳学校</td>\n",
       "      <td>247</td>\n",
       "    </tr>\n",
       "    <tr>\n",
       "      <th>4</th>\n",
       "      <td>北京工业大学附属中学</td>\n",
       "      <td>418</td>\n",
       "    </tr>\n",
       "    <tr>\n",
       "      <th>5</th>\n",
       "      <td>北京中学</td>\n",
       "      <td>121</td>\n",
       "    </tr>\n",
       "  </tbody>\n",
       "</table>\n",
       "</div>"
      ],
      "text/plain": [
       "      school_name  students_enrolled\n",
       "0        北京市第八十中学                260\n",
       "1        北京市陈经纶中学                279\n",
       "2         北京市日坛中学                403\n",
       "3  中国人民大学附属中学朝阳学校                247\n",
       "4      北京工业大学附属中学                418\n",
       "5            北京中学                121"
      ]
     },
     "execution_count": 4,
     "metadata": {},
     "output_type": "execute_result"
    }
   ],
   "source": [
    "%%time\n",
    "\n",
    "# 通过 pandas 连接数据库展示数据\n",
    "\n",
    "!pip install pandas\n",
    "\n",
    "import pandas as pd\n",
    "\n",
    "df = pd.read_sql_query(\"SELECT * from school_info\", engine)\n",
    "df.head(10)"
   ]
  },
  {
   "cell_type": "markdown",
   "id": "0208be9f-5599-44c0-a655-557ef2aa41a8",
   "metadata": {},
   "source": [
    "## 最简示例"
   ]
  },
  {
   "cell_type": "code",
   "execution_count": 5,
   "id": "c874ceee-0702-4120-9783-ea5086bf00df",
   "metadata": {},
   "outputs": [
    {
     "name": "stdout",
     "output_type": "stream",
     "text": [
      "CPU times: user 16.7 ms, sys: 28.5 ms, total: 45.2 ms\n",
      "Wall time: 6.67 s\n"
     ]
    }
   ],
   "source": [
    "%%time\n",
    "%%capture\n",
    "\n",
    "# 安装所需的库\n",
    "\n",
    "!pip install llama-index-core\n",
    "!pip install llama-index-llms-openai-like\n",
    "!pip install llama-index-embeddings-ollama"
   ]
  },
  {
   "cell_type": "code",
   "execution_count": 6,
   "id": "de99fba6-1635-4b49-9096-16373677c7d2",
   "metadata": {},
   "outputs": [
    {
     "name": "stdout",
     "output_type": "stream",
     "text": [
      "CPU times: user 1.67 s, sys: 149 ms, total: 1.82 s\n",
      "Wall time: 1.35 s\n"
     ]
    }
   ],
   "source": [
    "%%time\n",
    "\n",
    "from llama_index.core import SQLDatabase\n",
    "\n",
    "sql_database = SQLDatabase(engine, include_tables=[\"school_info\"])"
   ]
  },
  {
   "cell_type": "code",
   "execution_count": 7,
   "id": "4a2f2c39-f74b-4db5-88cc-a00993952f00",
   "metadata": {},
   "outputs": [
    {
     "name": "stdout",
     "output_type": "stream",
     "text": [
      "CPU times: user 1.34 s, sys: 195 ms, total: 1.54 s\n",
      "Wall time: 1.58 s\n"
     ]
    }
   ],
   "source": [
    "%%time\n",
    "\n",
    "from llama_index.core import Settings\n",
    "from llama_index.llms.openai_like import OpenAILike\n",
    "from llama_index.embeddings.ollama import OllamaEmbedding\n",
    "\n",
    "Settings.llm=OpenAILike(\n",
    "    # nl2sql失败的模型: qwen:7b, qwen2:1.5b, yi:6b\n",
    "    # 成功的模型：qwen2:7b, qwen:14b\n",
    "    model=\"qwen2\",\n",
    "    api_base=\"http://monkey:11434/v1\", \n",
    "    api_key=\"ollama\",\n",
    "    is_chat_model=True,\n",
    "    temperature=0.1,\n",
    "    request_timeout=60.0\n",
    ")\n",
    "\n",
    "Settings.embed_model =OllamaEmbedding(\n",
    "    model_name=\"quentinz/bge-large-zh-v1.5\",\n",
    "    base_url=\"http://monkey:11434\",\n",
    "    ollama_additional_kwargs={\"mirostat\": 0}, # -mirostat N 使用 Mirostat 采样。\n",
    ")"
   ]
  },
  {
   "cell_type": "markdown",
   "id": "bb100c28-0c2d-47b0-93c4-dbcd73bba40f",
   "metadata": {},
   "source": [
    "### 成功的示例"
   ]
  },
  {
   "cell_type": "code",
   "execution_count": 9,
   "id": "360e178f-adb0-4aa5-8d22-3f2728a97d0a",
   "metadata": {},
   "outputs": [
    {
     "name": "stdout",
     "output_type": "stream",
     "text": [
      "CPU times: user 14.4 ms, sys: 3.7 ms, total: 18.1 ms\n",
      "Wall time: 1.38 s\n"
     ]
    },
    {
     "data": {
      "text/plain": [
       "'招生最多的是北京工业大学附属中学，共有418名学生。'"
      ]
     },
     "execution_count": 9,
     "metadata": {},
     "output_type": "execute_result"
    }
   ],
   "source": [
    "%%time\n",
    "\n",
    "from llama_index.core.query_engine import NLSQLTableQueryEngine\n",
    "from llama_index.llms.openai_like import OpenAILike\n",
    "from llama_index.embeddings.ollama import OllamaEmbedding\n",
    "\n",
    "query_engine = NLSQLTableQueryEngine(\n",
    "    sql_database=sql_database, \n",
    "    tables=[\"school_info\"],\n",
    ")\n",
    "query_str = \"招生最多的是哪个学校?\"\n",
    "response = query_engine.query(query_str)\n",
    "\n",
    "response.response"
   ]
  },
  {
   "cell_type": "markdown",
   "id": "bdd525b0-e587-45c5-bf33-b5d0a69328cc",
   "metadata": {},
   "source": [
    "### 不成功的示例"
   ]
  },
  {
   "cell_type": "code",
   "execution_count": 10,
   "id": "e3c700e2-3a16-433d-8bee-2394c313e4a0",
   "metadata": {},
   "outputs": [
    {
     "name": "stdout",
     "output_type": "stream",
     "text": [
      "CPU times: user 81.3 ms, sys: 0 ns, total: 81.3 ms\n",
      "Wall time: 5.16 s\n"
     ]
    },
    {
     "data": {
      "text/plain": [
       "'Based on the given SQL query \"SELECT school_name FROM schools ORDER BY students_num DESC LIMIT 1\", it seems that there was an error in retrieving the results. However, based on the information available, the school with the most students is likely to be the one with the highest number of enrolled students. To find this out, you can execute the following corrected SQL query:\\n\\n\"SELECT school_name FROM schools ORDER BY students_num DESC LIMIT 1\"\\n\\nThis will return the name of the school that currently has the largest student enrollment.'"
      ]
     },
     "execution_count": 10,
     "metadata": {},
     "output_type": "execute_result"
    }
   ],
   "source": [
    "%%time\n",
    "\n",
    "from llama_index.core.query_engine import NLSQLTableQueryEngine\n",
    "from llama_index.llms.openai_like import OpenAILike\n",
    "from llama_index.embeddings.ollama import OllamaEmbedding\n",
    "\n",
    "query_engine = NLSQLTableQueryEngine(\n",
    "    sql_database=sql_database, \n",
    "    tables=[\"school_info\"],\n",
    "    llm=OpenAILike(\n",
    "        model=\"yi\",\n",
    "        api_base=\"http://monkey:11434/v1\", \n",
    "        api_key=\"ollama\",\n",
    "        is_chat_model=True,\n",
    "        temperature=0.1,\n",
    "        request_timeout=60.0\n",
    "    )\n",
    ")\n",
    "query_str = \"招生最多的是哪个学校?\"\n",
    "response = query_engine.query(query_str)\n",
    "\n",
    "response.response"
   ]
  },
  {
   "cell_type": "markdown",
   "id": "e87eb09e-33c3-4b10-b85f-8d1a83e06a73",
   "metadata": {},
   "source": [
    "## 实践总结"
   ]
  },
  {
   "cell_type": "markdown",
   "id": "eb7c1d38-d3a8-42e5-b2d1-9eafb967ae54",
   "metadata": {},
   "source": [
    "### 回答的流式输出"
   ]
  },
  {
   "cell_type": "code",
   "execution_count": 82,
   "id": "e05298c2-b42f-47d9-81aa-102cf2d8fc6c",
   "metadata": {},
   "outputs": [
    {
     "name": "stdout",
     "output_type": "stream",
     "text": [
      "招生最多的前三个学校是北京工业大学附属中学、北京市日坛中学和北京市陈经纶中学。\n",
      "CPU times: user 44.3 ms, sys: 19.4 ms, total: 63.7 ms\n",
      "Wall time: 2.14 s\n"
     ]
    }
   ],
   "source": [
    "%%time\n",
    "\n",
    "from llama_index.core.retrievers import NLSQLRetriever\n",
    "from llama_index.core.query_engine import RetrieverQueryEngine\n",
    "\n",
    "nl_sql_retriever = NLSQLRetriever(\n",
    "    sql_database, tables=[\"school_info\"], return_raw=True\n",
    ")\n",
    "\n",
    "query_engine = RetrieverQueryEngine.from_args(\n",
    "    nl_sql_retriever,\n",
    "    streaming=True\n",
    ")\n",
    "\n",
    "response = query_engine.query(\n",
    "    \"招生最多的前三个学校?\"\n",
    ")\n",
    "response.print_response_stream()\n",
    "print()"
   ]
  },
  {
   "cell_type": "markdown",
   "id": "463fe70c-8c6a-48b3-8278-e81297bca856",
   "metadata": {},
   "source": [
    "### 支持模糊查询"
   ]
  },
  {
   "cell_type": "markdown",
   "id": "e38cc392-3246-4409-950e-394a0e727877",
   "metadata": {},
   "source": [
    "#### 默认情况不支持"
   ]
  },
  {
   "cell_type": "code",
   "execution_count": 12,
   "id": "4d40b9bc-0b06-4cef-af37-72134f34639f",
   "metadata": {},
   "outputs": [
    {
     "name": "stdout",
     "output_type": "stream",
     "text": [
      "无法回答这个问题，因为提供的上下文信息是一个空列表，没有包含任何与“陈经纶招多少”相关的内容。需要具体的数字、单位或者上下文来提供一个准确的答案。CPU times: user 95 ms, sys: 2.31 ms, total: 97.3 ms\n",
      "Wall time: 1.81 s\n"
     ]
    }
   ],
   "source": [
    "%%time\n",
    "\n",
    "response = query_engine.query(\n",
    "    \"陈经纶招多少?\"\n",
    ")\n",
    "response.print_response_stream()\n",
    "print()"
   ]
  },
  {
   "cell_type": "markdown",
   "id": "6a3c983e-e50e-45a0-b7fd-34624f06ea3d",
   "metadata": {},
   "source": [
    "#### 自定义提示词实现模糊查询"
   ]
  },
  {
   "cell_type": "code",
   "execution_count": 32,
   "id": "acffbf91-d3a3-4706-8255-7df419d28c2d",
   "metadata": {},
   "outputs": [
    {
     "name": "stdout",
     "output_type": "stream",
     "text": [
      "CPU times: user 72.2 ms, sys: 0 ns, total: 72.2 ms\n",
      "Wall time: 1.7 s\n"
     ]
    },
    {
     "data": {
      "text/plain": [
       "[NodeWithScore(node=TextNode(id_='5baee8fa-73df-4133-952a-9a0e3b1b31ae', embedding=None, metadata={'sql_query': \"SELECT school_name, students_enrolled FROM school_info WHERE school_name LIKE '%陈经纶%' ORDER BY students_enrolled DESC LIMIT 1;\", 'result': [('北京市陈经纶中学', 279)], 'col_keys': ['school_name', 'students_enrolled']}, excluded_embed_metadata_keys=['sql_query', 'result', 'col_keys'], excluded_llm_metadata_keys=['sql_query', 'result', 'col_keys'], relationships={}, text=\"[('北京市陈经纶中学', 279)]\", mimetype='text/plain', start_char_idx=None, end_char_idx=None, text_template='{metadata_str}\\n\\n{content}', metadata_template='{key}: {value}', metadata_seperator='\\n'), score=None)]"
      ]
     },
     "execution_count": 32,
     "metadata": {},
     "output_type": "execute_result"
    }
   ],
   "source": [
    "%%time\n",
    "\n",
    "from llama_index.core import PromptTemplate\n",
    "\n",
    "nl_sql_retriever = NLSQLRetriever(\n",
    "    sql_database, tables=[\"school_info\"], \n",
    "    return_raw=True,\n",
    "    llm=OpenAILike(\n",
    "        model='qwen-turbo', \n",
    "        api_base=\"http://ape:3000/v1\", \n",
    "        api_key=\"sk-bJP6QSnUfjAYeYeE505d3eBf63A643BeB0B8E350Df9b7750\",\n",
    "        is_chat_model=True,\n",
    "        temperature=0.1,\n",
    "        request_timeout=60.0\n",
    "    )\n",
    ")\n",
    "\n",
    "old_prompt_str=nl_sql_retriever.get_prompts()['text_to_sql_prompt'].template\n",
    "new_prompt = PromptTemplate(\n",
    "    f\"{old_prompt_str}\"\n",
    "    \"查询关键字使用模糊查询, 并且查询结果应包含关键字所属的列\"\n",
    ")\n",
    "nl_sql_retriever.update_prompts({\"text_to_sql_prompt\": new_prompt})\n",
    "\n",
    "results = nl_sql_retriever.retrieve(\n",
    "    \"陈经纶招多少?\"\n",
    ")\n",
    "\n",
    "results"
   ]
  },
  {
   "cell_type": "code",
   "execution_count": 83,
   "id": "26a06901-7a7f-4482-9ba9-d06b2a0b66ea",
   "metadata": {},
   "outputs": [
    {
     "name": "stdout",
     "output_type": "stream",
     "text": [
      "陈经纶招收279名学生。\n",
      "CPU times: user 96.2 ms, sys: 5.11 ms, total: 101 ms\n",
      "Wall time: 3.06 s\n"
     ]
    }
   ],
   "source": [
    "%%time\n",
    "\n",
    "nl_sql_retriever = NLSQLRetriever(\n",
    "    sql_database, tables=[\"school_info\"], \n",
    "    return_raw=False,\n",
    "\n",
    "    \n",
    "    llm=OpenAILike(\n",
    "        model='qwen-turbo', \n",
    "        api_base=\"http://ape:3000/v1\", \n",
    "        api_key=\"sk-bJP6QSnUfjAYeYeE505d3eBf63A643BeB0B8E350Df9b7750\",\n",
    "        is_chat_model=True,\n",
    "        temperature=0.1,\n",
    "        request_timeout=60.0\n",
    "    )\n",
    ")\n",
    "\n",
    "old_prompt_str=nl_sql_retriever.get_prompts()['text_to_sql_prompt'].template\n",
    "new_prompt = PromptTemplate(\n",
    "    f\"{old_prompt_str}\"\n",
    "    \"查询关键字使用模糊查询, 并且查询结果应包含关键字所属的列\"\n",
    ")\n",
    "nl_sql_retriever.update_prompts({\"text_to_sql_prompt\": new_prompt})\n",
    "\n",
    "\n",
    "query_engine = RetrieverQueryEngine.from_args(\n",
    "    nl_sql_retriever,\n",
    "    streaming=True,\n",
    ")\n",
    "\n",
    "response = query_engine.query(\n",
    "    \"陈经纶招多少?\"\n",
    ")\n",
    "response.print_response_stream()\n",
    "print()"
   ]
  },
  {
   "cell_type": "code",
   "execution_count": 85,
   "id": "adfb0554-8734-4219-9eca-854b2bb505b3",
   "metadata": {},
   "outputs": [
    {
     "name": "stdout",
     "output_type": "stream",
     "text": [
      "北京市陈经纶中学招收的学生人数为279名。\n",
      "CPU times: user 28.4 ms, sys: 15.1 ms, total: 43.5 ms\n",
      "Wall time: 1.97 s\n"
     ]
    }
   ],
   "source": [
    "%%time\n",
    "\n",
    "from llama_index.core.prompts import PromptType\n",
    "\n",
    "my_qa_prompt_template = (\n",
    "    \"回答中要求使用学校的完整名称(school_name)\"\n",
    "    \"不用再计算，给出的就是答案\"\n",
    "    \"Context information is below.\\n\"\n",
    "    \"---------------------\\n\"\n",
    "    \"{context_str}\\n\"\n",
    "    \"---------------------\\n\"\n",
    "    \"Given the context information and not prior knowledge, \"\n",
    "    \"answer the query.\\n\"\n",
    "    \"Query: {query_str}\\n\"\n",
    "    \"Answer: \"\n",
    ")\n",
    "my_qa_prompt = PromptTemplate(\n",
    "    my_qa_prompt_template, prompt_type=PromptType.QUESTION_ANSWER\n",
    ")\n",
    "\n",
    "query_engine = RetrieverQueryEngine.from_args(\n",
    "    nl_sql_retriever,\n",
    "    streaming=True,\n",
    "    text_qa_template=my_qa_prompt,\n",
    ")\n",
    "\n",
    "response = query_engine.query(\n",
    "    \"陈经纶招多少?\"\n",
    ")\n",
    "response.print_response_stream()\n",
    "print()"
   ]
  },
  {
   "cell_type": "code",
   "execution_count": 77,
   "id": "083d0ea7-3e68-4045-a926-d12315217169",
   "metadata": {},
   "outputs": [
    {
     "name": "stdout",
     "output_type": "stream",
     "text": [
      "北京市日坛中学招收的学生人数为403名。\n",
      "CPU times: user 40.6 ms, sys: 1.93 ms, total: 42.6 ms\n",
      "Wall time: 1.77 s\n"
     ]
    }
   ],
   "source": [
    "%%time\n",
    "\n",
    "response = query_engine.query(\n",
    "    \"日坛招多少?\"\n",
    ")\n",
    "response.print_response_stream()\n",
    "print()"
   ]
  },
  {
   "cell_type": "code",
   "execution_count": 79,
   "id": "4d346d26-acbd-4c9a-9aa2-9cbc6e9c9791",
   "metadata": {},
   "outputs": [
    {
     "name": "stdout",
     "output_type": "stream",
     "text": [
      "招生最少的学校是北京中学，招收了121名学生。\n",
      "CPU times: user 31.2 ms, sys: 16.8 ms, total: 48 ms\n",
      "Wall time: 2.57 s\n"
     ]
    }
   ],
   "source": [
    "%%time\n",
    "\n",
    "response = query_engine.query(\n",
    "    \"招生最少的学校是哪个? 招多少？\"\n",
    ")\n",
    "response.print_response_stream()\n",
    "print()"
   ]
  }
 ],
 "metadata": {
  "kernelspec": {
   "display_name": "Python 3 (ipykernel)",
   "language": "python",
   "name": "python3"
  },
  "language_info": {
   "codemirror_mode": {
    "name": "ipython",
    "version": 3
   },
   "file_extension": ".py",
   "mimetype": "text/x-python",
   "name": "python",
   "nbconvert_exporter": "python",
   "pygments_lexer": "ipython3",
   "version": "3.10.12"
  }
 },
 "nbformat": 4,
 "nbformat_minor": 5
}
