{
 "cells": [
  {
   "cell_type": "markdown",
   "id": "cc394203-960b-4e7b-8b8f-3ce419047689",
   "metadata": {},
   "source": [
    "# 工作任务查询的实现原型"
   ]
  },
  {
   "cell_type": "markdown",
   "id": "8f85c7e1-4369-4da7-a8df-847c86f4af58",
   "metadata": {},
   "source": [
    "基本思路：\n",
    "\n",
    "- 使用 LlamaIndex\n",
    "- 基于 LlamaIndex 的路由查询引擎（`RouterQueryEngine`）\n",
    "- 实现2个不同的索引，一个用于总结工作任务，一个用于查询具体的任务细节"
   ]
  },
  {
   "cell_type": "markdown",
   "id": "674c745e-ec3c-4047-9ebc-65868b103824",
   "metadata": {},
   "source": [
    "## 加载数据"
   ]
  },
  {
   "cell_type": "code",
   "execution_count": 1,
   "id": "61066427-0aff-481d-8a1b-f91a229233f4",
   "metadata": {},
   "outputs": [
    {
     "name": "stdout",
     "output_type": "stream",
     "text": [
      "CPU times: user 6 μs, sys: 0 ns, total: 6 μs\n",
      "Wall time: 8.82 μs\n"
     ]
    }
   ],
   "source": [
    "%%time\n",
    "\n",
    "# 数据被简化为一个字符串列表，模拟当天完成的工作任务记录\n",
    "items=[\n",
    "\"开发部韩宇轩，simple-rag 产品，实现新特性：针对文档的摘要索引。通过摘要索引，为用户生成的总结性能有大幅度提升。经测试评估，准确率达到了95%，以前是45%。\",\n",
    "\"开发部陈逸飞，simple-rag 产品，修正bug：中文断句不完整。之前断句不完整，造成嵌入相似度准确率不高。目前的做法是更换splitter实现，并且对分块参数做了优化。\",\n",
    "\"产品部林晓琪，simple-rag 产品，提交新特性需求：多数据源的融合检索查询。用户反映以及我们测试，在某些功能下，大文档的检索召回率不高，造成回答效果不好。希望通过增加新的检索方法，并融合现在的检索结果，提高检索召回率。\",\n",
    "\"产品部林晓琪，江南皮革厂客服助手项目，和客户开会，沟通需求。确定了客服助手的基本功能，并约定了下一次沟通时间和沟通内容。\",\n",
    "\"运维部李泽言，江南皮革厂客服平台，系统扩容，解决了负载过高造成服务卡的问题。服务卡的主要原因是算力不足，原来是2张a100 40G，目前扩到了4张。今天业务高峰时间负载不到60%，问题解决。\",\n",
    "\"销售部韩雪薇，天津化工集团后勤服务平台，准备标书商务部分，完成公司资质方面的文案。资质文案主要包括： 相关软件著作权证书、银行资质证明、国安资质证书和验资报告等，已经整理成word文件。\",\n",
    "\"法务部张峻宁，完成审核了与深圳做大事公司的商务合同。之前对方提出了多个版权方面的条款，经过沟通，以及有关方面的查询，修改了相关条款，消除了商业风险，和客户达成了共识。目前已经提交给办公室。\",\n",
    "\"开发部郑千，simple-rag 产品，修正bug：聊天界面 markdown 格式显示错误。bug的现象是部分字体显示不全，更换实现库，解决了这个问题。\",    \n",
    "]"
   ]
  },
  {
   "cell_type": "code",
   "execution_count": 2,
   "id": "6d4405cd-5c30-45f4-a167-dbc71b3d93a1",
   "metadata": {},
   "outputs": [
    {
     "data": {
      "text/plain": [
       "TextNode(id_='node_0', embedding=None, metadata={}, excluded_embed_metadata_keys=[], excluded_llm_metadata_keys=[], relationships={}, text='开发部韩宇轩，simple-rag 产品，实现新特性：针对文档的摘要索引。通过摘要索引，为用户生成的总结性能有大幅度提升。经测试评估，准确率达到了95%，以前是45%。', mimetype='text/plain', start_char_idx=None, end_char_idx=None, text_template='{metadata_str}\\n\\n{content}', metadata_template='{key}: {value}', metadata_seperator='\\n')"
      ]
     },
     "execution_count": 2,
     "metadata": {},
     "output_type": "execute_result"
    }
   ],
   "source": [
    "from llama_index.core.schema import TextNode\n",
    "\n",
    "# 基于数据直接生成为节点\n",
    "\n",
    "nodes=[ TextNode(text=item, id_=f\"node_{index}\") for index, item in enumerate(items)]\n",
    "nodes[0]"
   ]
  },
  {
   "cell_type": "markdown",
   "id": "44328674-0193-4cd9-b287-ac7eb67077dd",
   "metadata": {},
   "source": [
    "## 摘要索引"
   ]
  },
  {
   "cell_type": "code",
   "execution_count": 3,
   "id": "1176abe4-2786-4b75-922e-55914ecfc120",
   "metadata": {},
   "outputs": [
    {
     "name": "stdout",
     "output_type": "stream",
     "text": [
      "CPU times: user 259 ms, sys: 19.4 ms, total: 279 ms\n",
      "Wall time: 278 ms\n"
     ]
    }
   ],
   "source": [
    "%%time\n",
    "\n",
    "from llama_index.core import SummaryIndex\n",
    "\n",
    "# 创建摘要索引\n",
    "\n",
    "summary_index = SummaryIndex(nodes)"
   ]
  },
  {
   "cell_type": "code",
   "execution_count": 4,
   "id": "52a547e9-b232-4cd5-b79f-30e7069b9fe2",
   "metadata": {},
   "outputs": [
    {
     "name": "stdout",
     "output_type": "stream",
     "text": [
      "CPU times: user 1.55 s, sys: 188 ms, total: 1.73 s\n",
      "Wall time: 1.73 s\n"
     ]
    }
   ],
   "source": [
    "%%time\n",
    "\n",
    "from llama_index.core import Settings\n",
    "from llama_index.llms.openai_like import OpenAILike\n",
    "\n",
    "# 创建全局llm，查询需要用到\n",
    "\n",
    "Settings.llm=OpenAILike(\n",
    "    # model=\"llama3.1\",  # 工作总结不能正确识别示例说明\n",
    "    # model=\"qwen2\", # json parse 报错；生成内容不稳定，有时遗漏\n",
    "    # model=\"qwen-turbo\", # 正确运行\n",
    "    # model=\"glm4\", # 正确运行，但不是很稳定\n",
    "    # model=\"yi:9b\", # 生成的内容错误，和示例混合\n",
    "    # model=\"yi-34b-chat\", # 能运行，有问题，一个任务描述摘要会拆分成好几个条目\n",
    "    # model=\"gpt-3.5-turbo\", # 正确运行\n",
    "    # model=\"glm-3-turbo\", # 正确运行\n",
    "    # model=\"glm-4\", # 正确运行\n",
    "    # model=\"glm-4-air\", # 正确运行\n",
    "    # model=\"Baichuan2-Turbo\", # 有不符合要求的情况 - 1个工作任务拆分成多条\n",
    "    # model=\"Baichuan3-Turbo\", # 正确运行\n",
    "    # model=\"Baichuan4\", # 有遗漏总结内容的情况\n",
    "    # model=\"ERNIE-Speed-8K\", # 生成内容解析报错\n",
    "    # model=\"ERNIE-3.5-8K-0205\", # 生成内容解析报错\n",
    "    # model=\"ERNIE-4.0-8K\", # 正确运行\n",
    "    # model=\"moonshot-v1-8k\", # 不行，做摘要有任务被拆分为2个，摘要不稳定，经常负载饱和\n",
    "    # model=\"abab5.5s-chat\", # 报错，生成内容解析错\n",
    "    # model=\"abab6.5s-chat\", # 报错，生成内容解析错\n",
    "    # model=\"qwen:14b\", # 不行，摘要内容不符合要求\n",
    "    model=\"qwen2-72b-instruct\", # 报错，生成内容解析错，但生成摘要内容很稳定\n",
    "    # model=\"hunyuan-lite\", # 不行，生成的内容错误，和示例混合\n",
    "    # model=\"hunyuan-standard\", # 不行，生成摘要有遗漏，生成内容解析报错\n",
    "    # model=\"hunyuan-pro\", # 正确运行\n",
    "    # model=\"deepseek-v2\", # 不行，摘要稳定的遗漏内容并混杂示例内容\n",
    "    api_base=\"http://ape:3000/v1\", \n",
    "    api_key=\"sk-bJP6QSnUfjAYeYeE505d3eBf63A643BeB0B8E350Df9b7750\",\n",
    "    is_chat_model=True,\n",
    "    temperature=0,\n",
    "    request_timeout=60.0\n",
    ")"
   ]
  },
  {
   "cell_type": "code",
   "execution_count": 5,
   "id": "3d0c54c1-deeb-43bf-a29b-6a99f165cf7e",
   "metadata": {},
   "outputs": [
    {
     "name": "stdout",
     "output_type": "stream",
     "text": [
      "CPU times: user 165 μs, sys: 0 ns, total: 165 μs\n",
      "Wall time: 169 μs\n"
     ]
    }
   ],
   "source": [
    "%%time\n",
    "\n",
    "from llama_index.core import get_response_synthesizer\n",
    "from llama_index.core.query_engine import RetrieverQueryEngine\n",
    "\n",
    "# 创建摘要查询引擎\n",
    "\n",
    "summary_retriever=summary_index.as_retriever()\n",
    "\n",
    "response_synthesizer = get_response_synthesizer(\n",
    "    response_mode=\"tree_summarize\",\n",
    "    streaming=True,\n",
    ")\n",
    "\n",
    "summary_query_engine = RetrieverQueryEngine(\n",
    "    retriever=summary_retriever,\n",
    "    response_synthesizer=response_synthesizer,\n",
    ")"
   ]
  },
  {
   "cell_type": "code",
   "execution_count": 6,
   "id": "79086fc2-f3de-4775-a05e-b1402ab9e542",
   "metadata": {},
   "outputs": [
    {
     "name": "stdout",
     "output_type": "stream",
     "text": [
      "产品部:\n",
      "\n",
      "- 林晓琪\n",
      "    - simple-rag 产品，提交新特性需求: 多数据源的融合检索查询\n",
      "    - 江南皮革厂客服助手项目，和客户开会，沟通需求\n",
      "\n",
      "开发部:\n",
      "\n",
      "- 韩宇轩\n",
      "    - simple-rag 产品，实现新特性: 针对文档的摘要索引\n",
      "- 陈逸飞\n",
      "    - simple-rag 产品，修正bug: 中文断句不完整\n",
      "- 郑千\n",
      "    - simple-rag 产品，修正bug: 聊天界面 markdown 格式显示错误\n",
      "\n",
      "运维部:\n",
      "\n",
      "- 李泽言\n",
      "    - 江南皮革厂客服平台，系统扩容，解决了负载过高造成服务卡的问题\n",
      "\n",
      "销售部:\n",
      "\n",
      "- 韩雪薇\n",
      "    - 天津化工集团后勤服务平台，准备标书商务部分，完成公司资质方面的文案\n",
      "\n",
      "法务部:\n",
      "\n",
      "- 张峻宁\n",
      "    - 完成审核了与深圳做大事公司的商务合同，消除了商业风险，和客户达成了共识\n",
      "CPU times: user 180 ms, sys: 29.1 ms, total: 209 ms\n",
      "Wall time: 9.69 s\n"
     ]
    }
   ],
   "source": [
    "%%time\n",
    "\n",
    "# 通过摘要查询引擎生成工作摘要\n",
    "\n",
    "response = summary_query_engine.query(\n",
    "    \"给出涉及的所有部门所有人的任务摘要输出，输出示例如下：\"\n",
    "    \"\"\"\n",
    "    产品部:\n",
    "\n",
    "    - 张三\n",
    "        - xxx产品，提交新特性需求: xxx\n",
    "        - xxx项目，和客户开会，xxxxx\n",
    "        - ...\n",
    "    - 李四\n",
    "        - xxxx\n",
    "        - ...\n",
    "    - 王五\n",
    "      - ...\n",
    "\n",
    "    开发部:\n",
    "    \n",
    "    - 赵六\n",
    "      - xxx产品，修正bug：xxxx\n",
    "      - xxx项目，实现新特性：xxxx\n",
    "      ...\n",
    "    - 于七\n",
    "      - xxx产品，修正bug：xxxx\n",
    "      - xxx项目，实现新特性：xxxx\n",
    "      ...\n",
    "    ...\n",
    "\n",
    "    xxx部:\n",
    "    ...\n",
    "    \"\"\"\n",
    ")\n",
    "\n",
    "response.print_response_stream()\n",
    "print()"
   ]
  },
  {
   "cell_type": "code",
   "execution_count": 7,
   "id": "dddd33c6-85c5-4f92-a650-c912f1c7e297",
   "metadata": {},
   "outputs": [
    {
     "name": "stdout",
     "output_type": "stream",
     "text": [
      "林晓琪完成了以下任务：\n",
      "- 提交了simple-rag产品的多数据源融合检索查询的新特性需求，旨在提高大文档的检索召回率，以改善回答效果。\n",
      "- 参与了江南皮革厂客服助手项目的客户需求沟通会议，确认了客服助手的基本功能，并安排了下次会议的时间和内容。\n",
      "CPU times: user 54.7 ms, sys: 4.4 ms, total: 59.2 ms\n",
      "Wall time: 2.87 s\n"
     ]
    }
   ],
   "source": [
    "%%time\n",
    "\n",
    "response = summary_query_engine.query(\"林晓琪完成哪些任务，列表说明\")\n",
    "response.print_response_stream()\n",
    "print()"
   ]
  },
  {
   "cell_type": "markdown",
   "id": "2243eaf2-dc2c-4846-b2d1-7c3187bf6db8",
   "metadata": {},
   "source": [
    "## 向量索引"
   ]
  },
  {
   "cell_type": "code",
   "execution_count": 8,
   "id": "4930076e-322e-4a93-8523-5f1de92b06c1",
   "metadata": {},
   "outputs": [
    {
     "name": "stdout",
     "output_type": "stream",
     "text": [
      "CPU times: user 413 ms, sys: 36.2 ms, total: 449 ms\n",
      "Wall time: 448 ms\n"
     ]
    }
   ],
   "source": [
    "%%time\n",
    "\n",
    "from llama_index.core import Settings\n",
    "from llama_index.embeddings.ollama import OllamaEmbedding\n",
    "\n",
    "# 设置嵌入模型\n",
    "\n",
    "Settings.embed_model = OllamaEmbedding(\n",
    "    model_name=\"quentinz/bge-large-zh-v1.5\",\n",
    "    # model_name=\"bge-m3\",\n",
    "    base_url=\"http://ape:11434\",\n",
    "    ollama_additional_kwargs={\"mirostat\": 0}, # -mirostat N 使用 Mirostat 采样。\n",
    ")"
   ]
  },
  {
   "cell_type": "code",
   "execution_count": 9,
   "id": "c8ce9590-122f-4a05-a5ee-a2c010839836",
   "metadata": {},
   "outputs": [
    {
     "name": "stdout",
     "output_type": "stream",
     "text": [
      "CPU times: user 49 ms, sys: 3.27 ms, total: 52.3 ms\n",
      "Wall time: 817 ms\n"
     ]
    }
   ],
   "source": [
    "%%time\n",
    "\n",
    "from llama_index.core import VectorStoreIndex\n",
    "\n",
    "# 创建向量索引\n",
    "\n",
    "vector_index = VectorStoreIndex(nodes)"
   ]
  },
  {
   "cell_type": "code",
   "execution_count": 10,
   "id": "5f2d74bb-dfda-4f4e-980b-ad13e36d6730",
   "metadata": {},
   "outputs": [
    {
     "name": "stdout",
     "output_type": "stream",
     "text": [
      "CPU times: user 175 μs, sys: 0 ns, total: 175 μs\n",
      "Wall time: 178 μs\n"
     ]
    }
   ],
   "source": [
    "%%time\n",
    "\n",
    "# 创建向量查询引擎\n",
    "\n",
    "vector_retriever=vector_index.as_retriever()\n",
    "\n",
    "response_synthesizer = get_response_synthesizer(\n",
    "    response_mode=\"tree_summarize\",\n",
    "    streaming=True,\n",
    ")\n",
    "\n",
    "vector_query_engine = RetrieverQueryEngine(\n",
    "    retriever=vector_retriever,\n",
    "    response_synthesizer=response_synthesizer,\n",
    ")"
   ]
  },
  {
   "cell_type": "code",
   "execution_count": 11,
   "id": "c59349a6-7ca1-4304-878b-bc0964448270",
   "metadata": {},
   "outputs": [
    {
     "name": "stdout",
     "output_type": "stream",
     "text": [
      "CPU times: user 6.64 ms, sys: 0 ns, total: 6.64 ms\n",
      "Wall time: 62.3 ms\n"
     ]
    },
    {
     "data": {
      "text/plain": [
       "[NodeWithScore(node=TextNode(id_='node_2', embedding=None, metadata={}, excluded_embed_metadata_keys=[], excluded_llm_metadata_keys=[], relationships={}, text='产品部林晓琪，simple-rag 产品，提交新特性需求：多数据源的融合检索查询。用户反映以及我们测试，在某些功能下，大文档的检索召回率不高，造成回答效果不好。希望通过增加新的检索方法，并融合现在的检索结果，提高检索召回率。', mimetype='text/plain', start_char_idx=None, end_char_idx=None, text_template='{metadata_str}\\n\\n{content}', metadata_template='{key}: {value}', metadata_seperator='\\n'), score=0.5919122817844211),\n",
       " NodeWithScore(node=TextNode(id_='node_0', embedding=None, metadata={}, excluded_embed_metadata_keys=[], excluded_llm_metadata_keys=[], relationships={}, text='开发部韩宇轩，simple-rag 产品，实现新特性：针对文档的摘要索引。通过摘要索引，为用户生成的总结性能有大幅度提升。经测试评估，准确率达到了95%，以前是45%。', mimetype='text/plain', start_char_idx=None, end_char_idx=None, text_template='{metadata_str}\\n\\n{content}', metadata_template='{key}: {value}', metadata_seperator='\\n'), score=0.3938835184407688)]"
      ]
     },
     "execution_count": 11,
     "metadata": {},
     "output_type": "execute_result"
    }
   ],
   "source": [
    "%%time\n",
    "\n",
    "vector_retriever.retrieve(\"为什么要做多数据源的融合检索查询？是谁提出的？\")"
   ]
  },
  {
   "cell_type": "code",
   "execution_count": 12,
   "id": "e452302a-9f4b-4aa3-b672-5e551a2d9e2b",
   "metadata": {},
   "outputs": [
    {
     "name": "stdout",
     "output_type": "stream",
     "text": [
      "产品部的林晓琪提出了多数据源的融合检索查询的新特性需求。原因是用户反馈和内部测试显示，在某些功能下，大文档的检索召回率不高，影响了回答效果。通过增加新的检索方法并融合现有结果，旨在提高检索召回率。\n",
      "CPU times: user 58.6 ms, sys: 886 μs, total: 59.4 ms\n",
      "Wall time: 5.15 s\n"
     ]
    }
   ],
   "source": [
    "%%time\n",
    "\n",
    "response = vector_query_engine.query(\"为什么要做多数据源的融合检索查询？是谁提出的\")\n",
    "response.print_response_stream()\n",
    "print()"
   ]
  },
  {
   "cell_type": "markdown",
   "id": "202ad242-50f8-49c5-a043-6e60ab651aa7",
   "metadata": {},
   "source": [
    "## 路由查询引擎"
   ]
  },
  {
   "cell_type": "code",
   "execution_count": 13,
   "id": "e186bb3c-c829-4989-8da9-1e45ed3c91c5",
   "metadata": {},
   "outputs": [
    {
     "name": "stdout",
     "output_type": "stream",
     "text": [
      "CPU times: user 1.52 ms, sys: 209 μs, total: 1.73 ms\n",
      "Wall time: 1.4 ms\n"
     ]
    }
   ],
   "source": [
    "%%time\n",
    "\n",
    "import nest_asyncio\n",
    "nest_asyncio.apply()"
   ]
  },
  {
   "cell_type": "code",
   "execution_count": 14,
   "id": "87cfec3e-4ddd-4b1a-8751-1e88e60b633c",
   "metadata": {},
   "outputs": [
    {
     "name": "stdout",
     "output_type": "stream",
     "text": [
      "CPU times: user 32 μs, sys: 4 μs, total: 36 μs\n",
      "Wall time: 40.1 μs\n"
     ]
    }
   ],
   "source": [
    "%%time\n",
    "\n",
    "from llama_index.core.tools import QueryEngineTool\n",
    "\n",
    "# 创建查询相关的 tool\n",
    "\n",
    "summary_tool = QueryEngineTool.from_defaults(\n",
    "    query_engine=summary_query_engine,\n",
    "    description=(\n",
    "        \"对工作任务总结方面的问题很有用。\"\n",
    "    ),\n",
    ")\n",
    "\n",
    "vector_tool = QueryEngineTool.from_defaults(\n",
    "    query_engine=vector_query_engine,\n",
    "    description=(\n",
    "        \"适用于回答工作任务相关的具体问题。\"\n",
    "    ),\n",
    ")"
   ]
  },
  {
   "cell_type": "code",
   "execution_count": 15,
   "id": "fc3d08bf-f8ed-4bcb-b4a8-042b39eab53e",
   "metadata": {},
   "outputs": [
    {
     "name": "stdout",
     "output_type": "stream",
     "text": [
      "CPU times: user 371 μs, sys: 0 ns, total: 371 μs\n",
      "Wall time: 376 μs\n"
     ]
    }
   ],
   "source": [
    "%%time\n",
    "\n",
    "from llama_index.core.query_engine import RouterQueryEngine\n",
    "from llama_index.core.selectors import LLMSingleSelector\n",
    "\n",
    "# 创建路由查询引擎\n",
    "\n",
    "from llama_index.core.response_synthesizers import TreeSummarize\n",
    "\n",
    "summarizer = TreeSummarize(streaming=True, use_async=False)\n",
    "\n",
    "query_engine = RouterQueryEngine(\n",
    "    selector=LLMSingleSelector.from_defaults(\n",
    "        llm=OpenAILike(\n",
    "            # model=\"qwen-turbo\", # 正确运行\n",
    "            model=\"glm4\", # 正确运行，但不是很稳定\n",
    "            api_base=\"http://ape:3000/v1\", \n",
    "            api_key=\"sk-bJP6QSnUfjAYeYeE505d3eBf63A643BeB0B8E350Df9b7750\",\n",
    "            is_chat_model=True,\n",
    "            temperature=0,\n",
    "            request_timeout=60.0\n",
    "        )\n",
    "    ),\n",
    "    query_engine_tools=[\n",
    "        summary_tool,\n",
    "        vector_tool,\n",
    "    ],\n",
    "    summarizer=summarizer\n",
    ")"
   ]
  },
  {
   "cell_type": "markdown",
   "id": "19e78917-7848-4070-a024-fb01f378b7bb",
   "metadata": {},
   "source": [
    "### 总结性的问题"
   ]
  },
  {
   "cell_type": "code",
   "execution_count": 16,
   "id": "945a167e-356e-4b08-83b3-5a96cbcf7673",
   "metadata": {},
   "outputs": [
    {
     "name": "stdout",
     "output_type": "stream",
     "text": [
      "产品部:\n",
      "\n",
      "- 林晓琪\n",
      "    - simple-rag 产品，提交新特性需求: 多数据源的融合检索查询\n",
      "    - 江南皮革厂客服助手项目，和客户开会，沟通需求\n",
      "\n",
      "开发部:\n",
      "\n",
      "- 韩宇轩\n",
      "    - simple-rag 产品，实现新特性: 针对文档的摘要索引\n",
      "- 陈逸飞\n",
      "    - simple-rag 产品，修正bug: 中文断句不完整\n",
      "- 郑千\n",
      "    - simple-rag 产品，修正bug: 聊天界面 markdown 格式显示错误\n",
      "\n",
      "运维部:\n",
      "\n",
      "- 李泽言\n",
      "    - 江南皮革厂客服平台，系统扩容，解决了负载过高造成服务卡的问题\n",
      "\n",
      "销售部:\n",
      "\n",
      "- 韩雪薇\n",
      "    - 天津化工集团后勤服务平台，准备标书商务部分，完成公司资质方面的文案\n",
      "\n",
      "法务部:\n",
      "\n",
      "- 张峻宁\n",
      "    - 完成审核了与深圳做大事公司的商务合同，消除了商业风险，和客户达成了共识\n",
      "CPU times: user 175 ms, sys: 44.8 ms, total: 220 ms\n",
      "Wall time: 18.4 s\n"
     ]
    }
   ],
   "source": [
    "%%time\n",
    "\n",
    "response = query_engine.query(\n",
    "    \"给出涉及的所有部门所有人的任务摘要输出，输出示例如下：\"\n",
    "    \"\"\"\n",
    "    产品部:\n",
    "\n",
    "    - 张三\n",
    "        - xxx产品，提交新特性需求: xxx\n",
    "        - xxx项目，和客户开会，xxxxx\n",
    "        - ...\n",
    "    - 李四\n",
    "        - xxxx\n",
    "        - ...\n",
    "    - 王五\n",
    "      - ...\n",
    "\n",
    "    开发部:\n",
    "    \n",
    "    - 赵六\n",
    "      - xxx产品，修正bug：xxxx\n",
    "      - xxx项目，实现新特性：xxxx\n",
    "      ...\n",
    "    - 于七\n",
    "      - xxx产品，修正bug：xxxx\n",
    "      - xxx项目，实现新特性：xxxx\n",
    "      ...\n",
    "    ...\n",
    "\n",
    "    xxx部:\n",
    "    ...\n",
    "    \"\"\"\n",
    ")\n",
    "\n",
    "response.print_response_stream()\n",
    "print()"
   ]
  },
  {
   "cell_type": "code",
   "execution_count": 17,
   "id": "0ab53aed-a4cb-46e4-a9f2-7fff89cb4e6f",
   "metadata": {},
   "outputs": [
    {
     "name": "stdout",
     "output_type": "stream",
     "text": [
      "林晓琪负责的两项主要任务包括：\n",
      "1. 针对simple-rag产品提出新特性需求，旨在通过融合多数据源的检索查询来提升大文档的检索召回率，以改善回答效果。\n",
      "2. 参与江南皮革厂客服助手项目的客户需求沟通会议，明确了客服助手的基本功能，并安排了后续沟通计划。\n",
      "CPU times: user 57.8 ms, sys: 9.14 ms, total: 66.9 ms\n",
      "Wall time: 5.29 s\n"
     ]
    }
   ],
   "source": [
    "%%time\n",
    "\n",
    "response = query_engine.query(\n",
    "    \"列表简要回答，林晓琪做了哪些工作任务\"\n",
    "    \"这是总结性质的问题\"\n",
    ")\n",
    "\n",
    "response.print_response_stream()\n",
    "print()"
   ]
  },
  {
   "cell_type": "markdown",
   "id": "aee8d603-201f-4d38-afb1-911c31cc19b4",
   "metadata": {},
   "source": [
    "### 具体问题"
   ]
  },
  {
   "cell_type": "code",
   "execution_count": 18,
   "id": "aa063c6e-b5d9-4d78-92f3-19113ca0cfc8",
   "metadata": {},
   "outputs": [
    {
     "name": "stdout",
     "output_type": "stream",
     "text": [
      "产品部的林晓琪提出了多数据源的融合检索查询的新特性需求。原因是用户反馈和内部测试显示，在某些功能下，大文档的检索召回率不高，影响了回答效果。通过增加新的检索方法并融合现有结果，旨在提高检索召回率。\n",
      "CPU times: user 51.2 ms, sys: 13.6 ms, total: 64.8 ms\n",
      "Wall time: 4.38 s\n"
     ]
    }
   ],
   "source": [
    "%%time\n",
    "\n",
    "response = query_engine.query(\"为什么要做多数据源的融合检索查询？是谁提出的\")\n",
    "\n",
    "response.print_response_stream()\n",
    "print()"
   ]
  },
  {
   "cell_type": "code",
   "execution_count": null,
   "id": "92c0e14f-75c0-4067-ab8b-0135ea5a3c50",
   "metadata": {},
   "outputs": [],
   "source": []
  }
 ],
 "metadata": {
  "kernelspec": {
   "display_name": "Python 3 (ipykernel)",
   "language": "python",
   "name": "python3"
  },
  "language_info": {
   "codemirror_mode": {
    "name": "ipython",
    "version": 3
   },
   "file_extension": ".py",
   "mimetype": "text/x-python",
   "name": "python",
   "nbconvert_exporter": "python",
   "pygments_lexer": "ipython3",
   "version": "3.10.12"
  }
 },
 "nbformat": 4,
 "nbformat_minor": 5
}
