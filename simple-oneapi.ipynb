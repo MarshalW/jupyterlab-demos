{
 "cells": [
  {
   "cell_type": "markdown",
   "id": "4e721601-d598-4ab7-aaba-ac291ec78db0",
   "metadata": {},
   "source": [
    "# 通过one-api使用大模型"
   ]
  },
  {
   "cell_type": "markdown",
   "id": "b67c3432-44bf-457a-b5f1-7e89696a5b1f",
   "metadata": {},
   "source": [
    "## 设置 one-api token"
   ]
  },
  {
   "cell_type": "code",
   "execution_count": 1,
   "id": "8d268ca4-9b60-4aff-bdcd-ad842811b63d",
   "metadata": {},
   "outputs": [
    {
     "name": "stdout",
     "output_type": "stream",
     "text": [
      "env: TOKEN=sk-W8fMtMdNWxNPxAf0F869DfB1Aa0c4bDf9263AbDfEa592d59\n",
      "env: HOST_URL=http://oneapi:3000\n",
      "env: MODEL_NAME=qwen2:1.5b\n",
      "CPU times: user 282 μs, sys: 80 μs, total: 362 μs\n",
      "Wall time: 357 μs\n"
     ]
    }
   ],
   "source": [
    "%%time\n",
    "\n",
    "TOKEN=\"sk-W8fMtMdNWxNPxAf0F869DfB1Aa0c4bDf9263AbDfEa592d59\"\n",
    "HOST_URL=\"http://oneapi:3000\"\n",
    "MODEL_NAME=\"qwen2:1.5b\"\n",
    "\n",
    "%env TOKEN=$TOKEN\n",
    "%env HOST_URL=$HOST_URL\n",
    "%env MODEL_NAME=$MODEL_NAME"
   ]
  },
  {
   "cell_type": "markdown",
   "id": "4e844005-2f54-4309-baf8-51e30c24fccb",
   "metadata": {},
   "source": [
    "## 通过 Restful API 对话"
   ]
  },
  {
   "cell_type": "code",
   "execution_count": 2,
   "id": "b8814db2-d006-4954-bf7f-b2fcb16513ad",
   "metadata": {},
   "outputs": [
    {
     "name": "stdout",
     "output_type": "stream",
     "text": [
      "{\n",
      "  \"id\": \"chatcmpl-57f23a3660984dceb9db3f4ab188e49b\",\n",
      "  \"model\": \"qwen2:1.5b\",\n",
      "  \"object\": \"chat.completion\",\n",
      "  \"created\": 1720683691,\n",
      "  \"choices\": [\n",
      "    {\n",
      "      \"index\": 0,\n",
      "      \"message\": {\n",
      "        \"role\": \"assistant\",\n",
      "        \"content\": \"我是来自阿里云的超大规模语言模型，我叫通义千问。很高兴为您服务！\"\n",
      "      },\n",
      "      \"finish_reason\": \"stop\"\n",
      "    }\n",
      "  ],\n",
      "  \"usage\": {\n",
      "    \"prompt_tokens\": 11,\n",
      "    \"completion_tokens\": 22,\n",
      "    \"total_tokens\": 33\n",
      "  }\n",
      "}\n",
      "CPU times: user 10.5 ms, sys: 7.55 ms, total: 18 ms\n",
      "Wall time: 598 ms\n"
     ]
    }
   ],
   "source": [
    "%%time\n",
    "%%bash\n",
    "\n",
    "curl -s \"$HOST_URL\"/v1/chat/completions \\\n",
    "  -H \"Content-Type: application/json\" \\\n",
    "  -H \"Authorization: Bearer $TOKEN\" \\\n",
    "  -d \"{\n",
    "     \\\"model\\\": \\\"$MODEL_NAME\\\",\n",
    "     \\\"messages\\\": [{\\\"role\\\": \\\"user\\\", \\\"content\\\": \\\"你谁啊\\\"}],\n",
    "     \\\"temperature\\\": 0.7\n",
    "   }\" | jq ."
   ]
  },
  {
   "cell_type": "markdown",
   "id": "f7b60da7-0500-4bde-9f0b-10d2abb6b65f",
   "metadata": {},
   "source": [
    "## 通过 OpenAI API 对话"
   ]
  },
  {
   "cell_type": "markdown",
   "id": "781f72ae-8623-4693-9cd2-43214367b76c",
   "metadata": {},
   "source": [
    "### 安装 openai 库"
   ]
  },
  {
   "cell_type": "code",
   "execution_count": 3,
   "id": "b9cfa257-51a9-4f79-9e75-417d15e9d84c",
   "metadata": {},
   "outputs": [
    {
     "name": "stdout",
     "output_type": "stream",
     "text": [
      "Looking in indexes: https://pypi.tuna.tsinghua.edu.cn/simple\n",
      "Requirement already satisfied: openai in /usr/local/lib/python3.10/dist-packages (1.35.13)\n",
      "Requirement already satisfied: sniffio in /usr/local/lib/python3.10/dist-packages (from openai) (1.3.1)\n",
      "Requirement already satisfied: httpx<1,>=0.23.0 in /usr/local/lib/python3.10/dist-packages (from openai) (0.27.0)\n",
      "Requirement already satisfied: distro<2,>=1.7.0 in /usr/local/lib/python3.10/dist-packages (from openai) (1.9.0)\n",
      "Requirement already satisfied: anyio<5,>=3.5.0 in /usr/local/lib/python3.10/dist-packages (from openai) (4.4.0)\n",
      "Requirement already satisfied: typing-extensions<5,>=4.7 in /usr/local/lib/python3.10/dist-packages (from openai) (4.12.2)\n",
      "Requirement already satisfied: pydantic<3,>=1.9.0 in /usr/local/lib/python3.10/dist-packages (from openai) (2.8.2)\n",
      "Requirement already satisfied: tqdm>4 in /usr/local/lib/python3.10/dist-packages (from openai) (4.66.4)\n",
      "Requirement already satisfied: idna>=2.8 in /usr/local/lib/python3.10/dist-packages (from anyio<5,>=3.5.0->openai) (3.7)\n",
      "Requirement already satisfied: exceptiongroup>=1.0.2 in /usr/local/lib/python3.10/dist-packages (from anyio<5,>=3.5.0->openai) (1.2.1)\n",
      "Requirement already satisfied: certifi in /usr/local/lib/python3.10/dist-packages (from httpx<1,>=0.23.0->openai) (2024.7.4)\n",
      "Requirement already satisfied: httpcore==1.* in /usr/local/lib/python3.10/dist-packages (from httpx<1,>=0.23.0->openai) (1.0.5)\n",
      "Requirement already satisfied: h11<0.15,>=0.13 in /usr/local/lib/python3.10/dist-packages (from httpcore==1.*->httpx<1,>=0.23.0->openai) (0.14.0)\n",
      "Requirement already satisfied: annotated-types>=0.4.0 in /usr/local/lib/python3.10/dist-packages (from pydantic<3,>=1.9.0->openai) (0.7.0)\n",
      "Requirement already satisfied: pydantic-core==2.20.1 in /usr/local/lib/python3.10/dist-packages (from pydantic<3,>=1.9.0->openai) (2.20.1)\n",
      "\u001b[33mWARNING: Running pip as the 'root' user can result in broken permissions and conflicting behaviour with the system package manager. It is recommended to use a virtual environment instead: https://pip.pypa.io/warnings/venv\u001b[0m\u001b[33m\n",
      "\u001b[0m"
     ]
    }
   ],
   "source": [
    "!pip install openai"
   ]
  },
  {
   "cell_type": "markdown",
   "id": "58e96898-c3ef-4df9-a6a5-0df5a9e3e6ea",
   "metadata": {},
   "source": [
    "### 同步方式问答"
   ]
  },
  {
   "cell_type": "code",
   "execution_count": 4,
   "id": "10d30456-7985-46c4-bf5a-94ce25de83b5",
   "metadata": {},
   "outputs": [
    {
     "name": "stdout",
     "output_type": "stream",
     "text": [
      "我是一个大模型，来自阿里云。我叫通义千问，是阿里云研发的超大规模语言模型，也是国内首个通过机器学习技术实现的通用AI预训练语言模型。我的全名是通义千问·通义三地智能语言模型，由杭州小冰科技有限公司创作。我是中国首个人工智能语言处理类预训练语言模型，在全球范围内具有较高的知名度。\n",
      "CPU times: user 344 ms, sys: 36.3 ms, total: 381 ms\n",
      "Wall time: 1.86 s\n"
     ]
    }
   ],
   "source": [
    "%%time\n",
    "\n",
    "from openai import OpenAI\n",
    "\n",
    "client = OpenAI(api_key=TOKEN, base_url=f\"{HOST_URL}/v1\")\n",
    "\n",
    "response = client.chat.completions.create(\n",
    "    model=MODEL_NAME,\n",
    "    messages=[{\"role\": \"user\", \"content\": \"你谁啊？\"}],\n",
    ")\n",
    "\n",
    "print(response.choices[0].message.content)"
   ]
  },
  {
   "cell_type": "markdown",
   "id": "ff649d0b-adc4-4840-b7a2-1130a1b17c51",
   "metadata": {},
   "source": [
    "### 流式问答"
   ]
  },
  {
   "cell_type": "code",
   "execution_count": 5,
   "id": "556060b3-f2fd-49ac-8102-eda30ee00d71",
   "metadata": {},
   "outputs": [
    {
     "name": "stdout",
     "output_type": "stream",
     "text": [
      "贝叶斯主义是一种统计方法，用于推断一个概率模型中的参数。它是一种基于证据的统计推理过程，主要用于解决不确定性问题。\n",
      "\n",
      "### 纯粹贝叶斯主义\n",
      "\n",
      "**定义**: 纯粹贝叶斯主义是贝叶斯统计的一种特例或简化形式，其中所有先验知识（即初始信念）都为真。在这种情况下，我们使用纯粹贝叶斯概率来计算后验概率，而不是利用任何证据。\n",
      "\n",
      "### 实用贝叶斯主义\n",
      "\n",
      "**定义**: 实用贝叶斯主义是一种更加灵活的统计方法，允许基于证据推断参数。它认为先验知识可能不全然真实，因此实用贝叶斯方法可以使用更复杂的形式进行参数估计和不确定性分析。\n",
      "\n",
      "### 差别\n",
      "\n",
      "1. **先验概率与后验概率**: 在纯粹贝叶斯主义中，所有先验知识都视为真，而在实用贝叶斯主义中，先验概率可能包含不确定性和不完全信息。\n",
      "2. **证据的作用**: 纯粹贝叶斯主义中的证据作用较小，因为它假设所有的先验知识都是正确的。在实用贝叶斯主义中，证据是核心工具，用于推断参数的后验分布。\n",
      "3. **模型选择问题**: 在纯粹贝叶斯主义下，我们需要根据先验知识和数据来构建一个合理的概率模型。而在实用贝叶斯主义中，我们更关心如何使用证据优化现有模型。\n",
      "\n",
      "简而言之，纯粹贝叶斯主义提供了一种简化统计推理的方法，而实用贝叶斯主义则在某种程度上更加灵活，可以根据实际数据和对先验知识的了解来调整参数估计的步骤。CPU times: user 231 ms, sys: 15.5 ms, total: 246 ms\n",
      "Wall time: 5.47 s\n"
     ]
    }
   ],
   "source": [
    "%%time\n",
    "\n",
    "response = client.chat.completions.create(\n",
    "    model=MODEL_NAME,\n",
    "    messages=[{\"role\": \"user\", \"content\": \"什么是贝叶斯主义？纯粹贝叶斯主义和实用贝叶斯主义有啥差别？\"}],\n",
    "    stream=True,\n",
    ")\n",
    "\n",
    "for chunk in response:\n",
    "    print(chunk.choices[0].delta.content, end=\"\")"
   ]
  },
  {
   "cell_type": "markdown",
   "id": "4d99adcb-cfaf-4ce8-87f3-c546e188db9f",
   "metadata": {},
   "source": [
    "### 使用云端模型"
   ]
  },
  {
   "cell_type": "code",
   "execution_count": 6,
   "id": "0140a2b7-7ec0-4c72-8317-1786e3f12c4d",
   "metadata": {},
   "outputs": [
    {
     "name": "stdout",
     "output_type": "stream",
     "text": [
      "焦耳（Joule，简称焦，符号J）是国际单位制（SI）中能量、功和热量的单位。它是用来度量物体由于力的作用而进行位移时所做的功，或者是热能的传递。具体来说：\n",
      "\n",
      "1. 能量：焦耳用于度量物体的能量，无论是潜在的（如储存于电池中的电能）、还是动能（由于运动而具有的能量）。\n",
      "2. 功：当力作用于物体并使其移动时，所做的工作可以用焦耳来度量。例如，1焦耳等于施加1牛顿的力使物体移动1米的距离所做的功。\n",
      "3. 热量：在热力学中，焦耳也用于度量热量的传递，即热能的转移。\n",
      "\n",
      "焦耳是一个导出单位，它可以根据不同的物理关系通过基本单位进行定义，如通过力的乘以位移（牛顿·米），或者电流的平方乘以电阻和时间（安培²·欧姆·秒），或者电荷乘以电压（库仑·伏特）。焦耳的名字是为了纪念英国物理学家詹姆斯·普雷斯科特·焦耳，他在能量守恒和热力学领域做出了重要贡献。CPU times: user 133 ms, sys: 14.7 ms, total: 148 ms\n",
      "Wall time: 9.35 s\n"
     ]
    }
   ],
   "source": [
    "%%time\n",
    "\n",
    "response = client.chat.completions.create(\n",
    "    model=\"glm-4\",\n",
    "    messages=[{\"role\": \"user\", \"content\": \"焦耳是用来度量什么的单位？\"}],\n",
    "    stream=True,\n",
    ")\n",
    "\n",
    "for chunk in response:\n",
    "    print(chunk.choices[0].delta.content, end=\"\")"
   ]
  },
  {
   "cell_type": "code",
   "execution_count": null,
   "id": "ffe5dece-43f4-45ff-b2b9-a90baabb8eb0",
   "metadata": {},
   "outputs": [],
   "source": []
  }
 ],
 "metadata": {
  "kernelspec": {
   "display_name": "Python 3 (ipykernel)",
   "language": "python",
   "name": "python3"
  },
  "language_info": {
   "codemirror_mode": {
    "name": "ipython",
    "version": 3
   },
   "file_extension": ".py",
   "mimetype": "text/x-python",
   "name": "python",
   "nbconvert_exporter": "python",
   "pygments_lexer": "ipython3",
   "version": "3.10.12"
  }
 },
 "nbformat": 4,
 "nbformat_minor": 5
}
