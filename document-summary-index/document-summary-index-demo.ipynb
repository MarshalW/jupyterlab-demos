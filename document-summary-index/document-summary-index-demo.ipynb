{
 "cells": [
  {
   "cell_type": "markdown",
   "id": "8d05911c-17e4-47c0-a0f1-74f118580474",
   "metadata": {},
   "source": [
    "# 评估 DocumentSummaryIndex 的性能"
   ]
  },
  {
   "cell_type": "markdown",
   "id": "198fb18c-c9e9-41f3-bdad-5d99dd6da30e",
   "metadata": {},
   "source": [
    "## 加载数据"
   ]
  },
  {
   "cell_type": "code",
   "execution_count": 1,
   "id": "7d05beb7-1c29-485a-ba36-f8b51f18ddb4",
   "metadata": {},
   "outputs": [
    {
     "name": "stdout",
     "output_type": "stream",
     "text": [
      "CPU times: user 2.43 s, sys: 398 ms, total: 2.83 s\n",
      "Wall time: 1.92 s\n"
     ]
    },
    {
     "data": {
      "text/plain": [
       "3"
      ]
     },
     "execution_count": 1,
     "metadata": {},
     "output_type": "execute_result"
    }
   ],
   "source": [
    "%%time\n",
    "\n",
    "from llama_index.core import SimpleDirectoryReader\n",
    "\n",
    "documents=SimpleDirectoryReader(\n",
    "    input_dir=\"./data\",\n",
    "    filename_as_id=True,\n",
    ").load_data()\n",
    "\n",
    "len(documents)"
   ]
  },
  {
   "cell_type": "markdown",
   "id": "422f2adf-808f-44d0-a95e-0af7b73a1b30",
   "metadata": {},
   "source": [
    "## 设置全局环境"
   ]
  },
  {
   "cell_type": "code",
   "execution_count": 3,
   "id": "de53ace5-d048-4796-8494-9bfbb1b7fa7c",
   "metadata": {},
   "outputs": [
    {
     "name": "stdout",
     "output_type": "stream",
     "text": [
      "CPU times: user 611 ms, sys: 39.3 ms, total: 650 ms\n",
      "Wall time: 650 ms\n"
     ]
    }
   ],
   "source": [
    "%%time\n",
    "\n",
    "from llama_index.core import Settings\n",
    "from llama_index.llms.ollama import Ollama\n",
    "from llama_index.embeddings.ollama import OllamaEmbedding\n",
    "\n",
    "Settings.llm = Ollama(\n",
    "    base_url=\"http://ape:11434\",\n",
    "    model=\"qwen2\",\n",
    "    is_chat_model=True,\n",
    "    temperature=0.1,\n",
    "    request_timeout=60.0\n",
    ")\n",
    "\n",
    "Settings.embed_model = OllamaEmbedding(\n",
    "    model_name=\"rjmalagon/gte-qwen2-1.5b-instruct-embed-f16\",\n",
    "    base_url=\"http://ape:11434\",\n",
    "    # -mirostat N 使用 Mirostat 采样。\n",
    "    ollama_additional_kwargs={\"mirostat\": 0},\n",
    ")\n",
    "\n",
    "# Settings.chunk_size = 512\n",
    "# Settings.chunk_overlap = 50"
   ]
  },
  {
   "cell_type": "markdown",
   "id": "6779b4ae-4f51-415b-ab2b-b7bf8e6c747b",
   "metadata": {},
   "source": [
    "## 创建文档摘要索引"
   ]
  },
  {
   "cell_type": "code",
   "execution_count": 6,
   "id": "30a1b9d6-5f83-4b64-98be-36b4e90ad279",
   "metadata": {},
   "outputs": [
    {
     "data": {
      "application/vnd.jupyter.widget-view+json": {
       "model_id": "6f8bead018df40b28b61f963aa3daa4a",
       "version_major": 2,
       "version_minor": 0
      },
      "text/plain": [
       "Parsing nodes:   0%|          | 0/3 [00:00<?, ?it/s]"
      ]
     },
     "metadata": {},
     "output_type": "display_data"
    },
    {
     "data": {
      "application/vnd.jupyter.widget-view+json": {
       "model_id": "a68c62bf4ece4796840517f6520a5ec0",
       "version_major": 2,
       "version_minor": 0
      },
      "text/plain": [
       "Summarizing documents:   0%|          | 0/3 [00:00<?, ?it/s]"
      ]
     },
     "metadata": {},
     "output_type": "display_data"
    },
    {
     "name": "stdout",
     "output_type": "stream",
     "text": [
      "current doc id: /root/notebook/jupyterlab-demos/document-summary-index/data/天问三号将在2028年前后实现火星采样返回.txt\n",
      "current doc id: /root/notebook/jupyterlab-demos/document-summary-index/data/网传“中国高铁一公里耗一万度电”，权威解读.txt\n",
      "current doc id: /root/notebook/jupyterlab-demos/document-summary-index/data/设计时速350公里，杭温高铁9月6日开通运营.txt\n"
     ]
    },
    {
     "data": {
      "application/vnd.jupyter.widget-view+json": {
       "model_id": "c59200e394e44d1cad2679aef1395e93",
       "version_major": 2,
       "version_minor": 0
      },
      "text/plain": [
       "Generating embeddings:   0%|          | 0/3 [00:00<?, ?it/s]"
      ]
     },
     "metadata": {},
     "output_type": "display_data"
    },
    {
     "name": "stdout",
     "output_type": "stream",
     "text": [
      "CPU times: user 204 ms, sys: 19.2 ms, total: 223 ms\n",
      "Wall time: 27.7 s\n"
     ]
    }
   ],
   "source": [
    "%%time\n",
    "\n",
    "from llama_index.core import get_response_synthesizer\n",
    "from llama_index.core import DocumentSummaryIndex\n",
    "\n",
    "# default mode of building the index\n",
    "response_synthesizer = get_response_synthesizer(\n",
    "    response_mode=\"tree_summarize\", \n",
    "    use_async=True,\n",
    ")\n",
    "\n",
    "index = DocumentSummaryIndex.from_documents(\n",
    "    documents,\n",
    "    response_synthesizer=response_synthesizer,\n",
    "    show_progress=True,\n",
    ")"
   ]
  },
  {
   "cell_type": "markdown",
   "id": "65cb8cb7-88db-4bc5-a064-7b7af5f65465",
   "metadata": {},
   "source": [
    "## 高级查询"
   ]
  },
  {
   "cell_type": "code",
   "execution_count": 8,
   "id": "08dceed1-c4ec-4faa-8d49-d786ea4ba281",
   "metadata": {},
   "outputs": [
    {
     "name": "stdout",
     "output_type": "stream",
     "text": [
      "CPU times: user 161 μs, sys: 23 μs, total: 184 μs\n",
      "Wall time: 188 μs\n"
     ]
    }
   ],
   "source": [
    "%%time\n",
    "\n",
    "query_engine = index.as_query_engine(\n",
    "    response_mode=\"tree_summarize\", \n",
    "    streaming=True,\n",
    "    # similarity_top_k=5\n",
    ")"
   ]
  },
  {
   "cell_type": "code",
   "execution_count": 9,
   "id": "48be8392-18a9-46a9-a1dc-5f06e98b81eb",
   "metadata": {},
   "outputs": [
    {
     "name": "stdout",
     "output_type": "stream",
     "text": [
      "天问三号任务的原计划是在2030年前后实施两次发射任务。CPU times: user 39.3 ms, sys: 8.05 ms, total: 47.3 ms\n",
      "Wall time: 1.23 s\n"
     ]
    }
   ],
   "source": [
    "%%time\n",
    "\n",
    "response = query_engine.query(\"天问三号原计划是何时发射？\")\n",
    "response.print_response_stream()"
   ]
  },
  {
   "cell_type": "code",
   "execution_count": 10,
   "id": "8c5a5e13-15ea-41ab-818e-df73e442696f",
   "metadata": {},
   "outputs": [
    {
     "name": "stdout",
     "output_type": "stream",
     "text": [
      "网传“中国高铁一公里耗一万度电”的说法不属实。这一说法偷换了概念，与事实不符。以现有CRH380A、CRH380B、CR400AF、CR400BF等4个8编组的主力车型为例，其轮周功率分别为：9360kW、9200kW、9750kW、10140kW。通过在京沪高铁（往返距离2636公里）达速350km/h运行条件下的能耗测试数据显示，其耗电量分别为：56931度、61861度、51364度、55490度，据此推算出平均每公里耗电量分别为：21.6度、23.5度、19.5度、21.1度。因此，网传“一公里耗一万度电”是错误的，实际平均每公里耗电量远低于这一数值。CPU times: user 245 ms, sys: 141 ms, total: 386 ms\n",
      "Wall time: 5.02 s\n"
     ]
    }
   ],
   "source": [
    "%%time\n",
    "\n",
    "response = query_engine.query(\"高铁一公里耗电一万度是否属实？\")\n",
    "response.print_response_stream()"
   ]
  },
  {
   "cell_type": "markdown",
   "id": "fe8525c1-66ea-42a1-9589-9bead0e518c9",
   "metadata": {},
   "source": [
    "## 基于嵌入的检索和查询"
   ]
  },
  {
   "cell_type": "markdown",
   "id": "b2e1585d-1eac-4d96-9eb0-049b57796ec4",
   "metadata": {},
   "source": [
    "### 检索"
   ]
  },
  {
   "cell_type": "code",
   "execution_count": 18,
   "id": "10ab218c-dc06-4548-b7a3-6219d6ecac28",
   "metadata": {},
   "outputs": [
    {
     "name": "stdout",
     "output_type": "stream",
     "text": [
      "CPU times: user 9.11 ms, sys: 0 ns, total: 9.11 ms\n",
      "Wall time: 125 ms\n"
     ]
    },
    {
     "data": {
      "text/plain": [
       "5"
      ]
     },
     "execution_count": 18,
     "metadata": {},
     "output_type": "execute_result"
    }
   ],
   "source": [
    "%%time\n",
    "\n",
    "from llama_index.core.indices.document_summary import DocumentSummaryIndexEmbeddingRetriever\n",
    "\n",
    "retriever = DocumentSummaryIndexEmbeddingRetriever(\n",
    "    index,\n",
    "    similarity_top_k=2, # 默认是1\n",
    ")\n",
    "\n",
    "retrieved_nodes = retriever.retrieve(\"天问三号原计划是何时发射？\")\n",
    "\n",
    "len(retrieved_nodes)"
   ]
  },
  {
   "cell_type": "code",
   "execution_count": 19,
   "id": "45e8cf6f-3852-4ff3-bb73-f5c3fe4c5921",
   "metadata": {},
   "outputs": [
    {
     "data": {
      "text/plain": [
       "NodeWithScore(node=TextNode(id_='884695e4-0b3f-4c84-a681-22254bde1680', embedding=None, metadata={'file_path': '/root/notebook/jupyterlab-demos/document-summary-index/data/设计时速350公里，杭温高铁9月6日开通运营.txt', 'file_name': '设计时速350公里，杭温高铁9月6日开通运营.txt', 'file_type': 'text/plain', 'file_size': 3014, 'creation_date': '2024-09-05', 'last_modified_date': '2024-09-05'}, excluded_embed_metadata_keys=['file_name', 'file_type', 'file_size', 'creation_date', 'last_modified_date', 'last_accessed_date'], excluded_llm_metadata_keys=['file_name', 'file_type', 'file_size', 'creation_date', 'last_modified_date', 'last_accessed_date'], relationships={<NodeRelationship.SOURCE: '1'>: RelatedNodeInfo(node_id='/root/notebook/jupyterlab-demos/document-summary-index/data/设计时速350公里，杭温高铁9月6日开通运营.txt', node_type=<ObjectType.DOCUMENT: '4'>, metadata={'file_path': '/root/notebook/jupyterlab-demos/document-summary-index/data/设计时速350公里，杭温高铁9月6日开通运营.txt', 'file_name': '设计时速350公里，杭温高铁9月6日开通运营.txt', 'file_type': 'text/plain', 'file_size': 3014, 'creation_date': '2024-09-05', 'last_modified_date': '2024-09-05'}, hash='fc1ba036c9fea9f48207877e805a76ce168e9c68794e1edf296414461785cfa6'), <NodeRelationship.NEXT: '3'>: RelatedNodeInfo(node_id='4a6499ac-e33d-418e-84a9-ad7bd572b348', node_type=<ObjectType.TEXT: '1'>, metadata={}, hash='b5f80332c92ec02ee613cca0dafaa0b55dbc9926f1a5c94faaa19d59030b45dd')}, text='设计时速350公里，杭温高铁9月6日开通运营\\n分享到：   08\\n2024-09-05 14:36:06字号：A- A A+来源：观察者网阅读 20448\\n微信公众号“中国铁路”9月5日消息，杭州至义乌至温州高铁（以下简称杭温高铁）将于9月6日开通运营，杭州西至温州北最快1小时27分可达，杭州与温州两座著名旅游城市间新增一条便捷高速铁路客运通道，“轨道上的长三角”再添新笔画。\\n\\n点击查看大图\\n\\n杭温高铁自杭州市桐庐东站引出，途经金华市、台州市、温州市，引入温州北站，通过既有杭深铁路延伸至温州南站，正线全长276公里，设计时速350公里。全线设桐庐东、浦江、义乌、横店、磐安、仙居、楠溪江、温州北、温州南等9座车站，其中浦江、横店、磐安、仙居、楠溪江为新建车站，桐庐东、义乌、温州北、温州南为改扩建车站。\\n\\n杭温高铁跨越浦阳江、南江、楠溪江等河流，穿越仙华山、大盘山、括苍山等山峰，沿线山高谷深，沟壑纵横，岩溶地质发育强烈，地形地貌复杂，施工难度较大。自2020年6月开工建设以来，国铁集团组织各参建单位把生态优先、节约集约、绿色低碳发展理念贯穿铁路规划、设计、建设全过程，加大科研攻关力度，强化安全、质量和环保控制，优质高效推进工程建设，架设了楠溪江特大桥等117座桥梁，建成了木匪岭隧道等81座隧道，确保了工程如期建成。\\n\\n项目开通运营前，国铁集团精心组织相关单位，严格落实各项规定和标准，对杭温高铁各专业设备进行了联调联试、检测验收和安全评估，对轨道状态、弓网性能、列车控制、通信信号系统等进行了综合优化调整。目前，该线路满足高速铁路安全、稳定运营要求，具备开通运营条件。\\n\\n杭温高铁最高时速按350公里运营。开通运营初期，铁路部门将按照日常线、高峰线安排旅客列车开行，每日开行动车组列车最高达38列，杭州西至义乌、温州北、温州南分别最快34分钟、87分钟、120分钟可达。', mimetype='text/plain', start_char_idx=0, end_char_idx=792, text_template='{metadata_str}\\n\\n{content}', metadata_template='{key}: {value}', metadata_seperator='\\n'), score=None)"
      ]
     },
     "execution_count": 19,
     "metadata": {},
     "output_type": "execute_result"
    }
   ],
   "source": [
    "retrieved_nodes[3]"
   ]
  },
  {
   "cell_type": "markdown",
   "id": "42e3e72e-aaf9-47d4-a24b-f50ba99e2e2b",
   "metadata": {},
   "source": [
    "### 查询"
   ]
  },
  {
   "cell_type": "code",
   "execution_count": 20,
   "id": "a469f5a3-8290-4c25-af71-69f5f9277078",
   "metadata": {},
   "outputs": [
    {
     "name": "stdout",
     "output_type": "stream",
     "text": [
      "CPU times: user 151 μs, sys: 26 μs, total: 177 μs\n",
      "Wall time: 181 μs\n"
     ]
    }
   ],
   "source": [
    "%%time\n",
    "\n",
    "from llama_index.core.query_engine import RetrieverQueryEngine\n",
    "\n",
    "retriever = DocumentSummaryIndexEmbeddingRetriever(\n",
    "    index,\n",
    ")\n",
    "\n",
    "response_synthesizer = get_response_synthesizer(\n",
    "    response_mode=\"tree_summarize\",\n",
    "    streaming=True\n",
    ")\n",
    "\n",
    "query_engine = RetrieverQueryEngine(\n",
    "    retriever=retriever,\n",
    "    response_synthesizer=response_synthesizer,\n",
    ")"
   ]
  },
  {
   "cell_type": "code",
   "execution_count": 21,
   "id": "de2e90db-74a1-47cc-9517-203078fabaae",
   "metadata": {},
   "outputs": [
    {
     "name": "stdout",
     "output_type": "stream",
     "text": [
      "网传“中国高铁一公里耗一万度电”的说法不属实。这一说法偷换了概念，与事实不符。以现有CRH380A、CRH380B、CR400AF、CR400BF等4个8编组的主力车型为例，其轮周功率分别为：9360kW、9200kW、9750kW、10140kW。通过在京沪高铁（往返距离2636公里）达速350km/h运行条件下的能耗测试数据显示，其耗电量分别为：56931度、61861度、51364度、55490度，据此推算出平均每公里耗电量分别为：21.6度、23.5度、19.5度、21.1度。因此，网传“一公里耗一万度电”是错误的，实际上中国高铁列车每公里耗电量远低于这一数值。CPU times: user 278 ms, sys: 109 ms, total: 387 ms\n",
      "Wall time: 8.9 s\n"
     ]
    }
   ],
   "source": [
    "%%time\n",
    "\n",
    "response = query_engine.query(\"高铁一公里耗电一万度是否属实？\")\n",
    "response.print_response_stream()"
   ]
  },
  {
   "cell_type": "markdown",
   "id": "89b3db46-976e-4976-b120-6f46aaf8bf2c",
   "metadata": {},
   "source": [
    "## 索引的保存和刷新"
   ]
  },
  {
   "cell_type": "markdown",
   "id": "af18f2e6-8c3c-47ff-9741-20f44a695c58",
   "metadata": {},
   "source": [
    "### 保存"
   ]
  },
  {
   "cell_type": "code",
   "execution_count": 22,
   "id": "c9db0ef5-4322-4cf1-b2f5-c7dfa3990734",
   "metadata": {},
   "outputs": [
    {
     "name": "stdout",
     "output_type": "stream",
     "text": [
      "CPU times: user 21.8 ms, sys: 3.55 ms, total: 25.3 ms\n",
      "Wall time: 24.1 ms\n"
     ]
    }
   ],
   "source": [
    "%%time\n",
    "\n",
    "index.storage_context.persist()"
   ]
  },
  {
   "cell_type": "markdown",
   "id": "c91928bf-4b8d-4fd0-a095-c16186edbe11",
   "metadata": {},
   "source": [
    "### 重新加载索引"
   ]
  },
  {
   "cell_type": "code",
   "execution_count": 26,
   "id": "23aaa4f3-de12-4bf7-a065-2aa9058fe23c",
   "metadata": {},
   "outputs": [
    {
     "name": "stdout",
     "output_type": "stream",
     "text": [
      "CPU times: user 41.7 ms, sys: 3.39 ms, total: 45.1 ms\n",
      "Wall time: 44.2 ms\n"
     ]
    }
   ],
   "source": [
    "%%time\n",
    "\n",
    "from llama_index.core import StorageContext, load_index_from_storage\n",
    "\n",
    "storage_context = StorageContext.from_defaults(persist_dir=\"./storage\")\n",
    "index = load_index_from_storage(storage_context)"
   ]
  },
  {
   "cell_type": "markdown",
   "id": "610b1475-90a7-4c19-8fb7-4f45ae132388",
   "metadata": {},
   "source": [
    "### 追加文档"
   ]
  },
  {
   "cell_type": "code",
   "execution_count": 23,
   "id": "492b9d5f-430a-4427-9871-fbdda0887c53",
   "metadata": {},
   "outputs": [
    {
     "name": "stdout",
     "output_type": "stream",
     "text": [
      "CPU times: user 2.9 ms, sys: 554 μs, total: 3.45 ms\n",
      "Wall time: 2.91 ms\n"
     ]
    }
   ],
   "source": [
    "%%time\n",
    "\n",
    "new_document=SimpleDirectoryReader(\n",
    "    input_dir=\"./data2\",\n",
    "    filename_as_id=True,\n",
    ").load_data()[0]\n",
    "\n",
    "documents.append(new_document)"
   ]
  },
  {
   "cell_type": "markdown",
   "id": "54cb4bc3-f232-4863-9d7c-6b97ea3cfdab",
   "metadata": {},
   "source": [
    "### 刷新索引"
   ]
  },
  {
   "cell_type": "code",
   "execution_count": 27,
   "id": "6203b7c2-4c67-4326-adf2-c397d4acf9e4",
   "metadata": {},
   "outputs": [
    {
     "name": "stdout",
     "output_type": "stream",
     "text": [
      "current doc id: /root/notebook/jupyterlab-demos/document-summary-index/data2/世界气象组织：中国和欧洲PM2.5浓度低于全球平均水平.txt\n",
      "CPU times: user 16.7 ms, sys: 4.17 ms, total: 20.9 ms\n",
      "Wall time: 11.7 s\n"
     ]
    },
    {
     "data": {
      "text/plain": [
       "[False, False, False, True]"
      ]
     },
     "execution_count": 27,
     "metadata": {},
     "output_type": "execute_result"
    }
   ],
   "source": [
    "%%time\n",
    "\n",
    "index.refresh_ref_docs(documents)"
   ]
  },
  {
   "cell_type": "code",
   "execution_count": 28,
   "id": "e1e968f5-2864-439e-b0dd-ff9d25b04274",
   "metadata": {},
   "outputs": [
    {
     "name": "stdout",
     "output_type": "stream",
     "text": [
      "CPU times: user 29.1 ms, sys: 2.08 ms, total: 31.2 ms\n",
      "Wall time: 30 ms\n"
     ]
    }
   ],
   "source": [
    "%%time\n",
    "\n",
    "# 保存刷新后的索引\n",
    "index.storage_context.persist()"
   ]
  },
  {
   "cell_type": "code",
   "execution_count": null,
   "id": "1c58a4a8-ca83-4f34-b817-83f0abbd4ef5",
   "metadata": {},
   "outputs": [],
   "source": []
  }
 ],
 "metadata": {
  "kernelspec": {
   "display_name": "Python 3 (ipykernel)",
   "language": "python",
   "name": "python3"
  },
  "language_info": {
   "codemirror_mode": {
    "name": "ipython",
    "version": 3
   },
   "file_extension": ".py",
   "mimetype": "text/x-python",
   "name": "python",
   "nbconvert_exporter": "python",
   "pygments_lexer": "ipython3",
   "version": "3.10.12"
  }
 },
 "nbformat": 4,
 "nbformat_minor": 5
}
